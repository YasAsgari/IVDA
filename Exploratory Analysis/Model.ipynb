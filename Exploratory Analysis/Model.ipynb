{
 "cells": [
  {
   "cell_type": "code",
   "execution_count": 2,
   "metadata": {},
   "outputs": [],
   "source": [
    "import pandas as pd\n",
    "import numpy as np\n",
    "from sklearn.preprocessing import MultiLabelBinarizer, StandardScaler, OneHotEncoder\n",
    "from sklearn.compose import ColumnTransformer\n",
    "from sklearn.manifold import TSNE\n",
    "import plotly.express as px\n",
    "from sklearn.pipeline import Pipeline\n",
    "import numpy as np\n",
    "import matplotlib.pyplot as plt\n",
    "import plotly.graph_objects as go\n",
    "import umap\n",
    "from sklearn.cluster import DBSCAN"
   ]
  },
  {
   "cell_type": "code",
   "execution_count": 3,
   "metadata": {},
   "outputs": [],
   "source": [
    "# Load the dataset\n",
    "df = pd.read_csv('final_df.csv')"
   ]
  },
  {
   "cell_type": "code",
   "execution_count": 4,
   "metadata": {},
   "outputs": [
    {
     "data": {
      "text/plain": [
       "Index(['series', 'identifier_swisscollections', 'subject_form',\n",
       "       'library_call_number', 'resource_type',\n",
       "       'date_of_publication_or_production_standardised', 'place_standardised',\n",
       "       'physical_description', 'language', 'title', 'found_date',\n",
       "       'Languages_Clean', 'Languages_Clean_other_mapped',\n",
       "       'corrected_subject_form', 'res_Clean_other_mapped',\n",
       "       'subject_Clean_other_mapped', 'corrected_resource_type',\n",
       "       'resource_Clean_other_mapped', 'city_info', 'city', 'lat', 'lng',\n",
       "       'country'],\n",
       "      dtype='object')"
      ]
     },
     "execution_count": 4,
     "metadata": {},
     "output_type": "execute_result"
    }
   ],
   "source": [
    "df.columns"
   ]
  },
  {
   "cell_type": "code",
   "execution_count": null,
   "metadata": {},
   "outputs": [],
   "source": [
    "# Process MultiLabelBinarizer for specified columns\n",
    "def process_multilabel_columns(df, columns):\n",
    "    label_encoded_X = []\n",
    "    mlb_list = []\n",
    "    for col in columns:\n",
    "        mlb = MultiLabelBinarizer()\n",
    "        label_encoded = mlb.fit_transform(df[col])  # Ensure correct list handling\n",
    "        label_encoded_X.append(label_encoded)\n",
    "        mlb_list.append(mlb)\n",
    "    return np.hstack(label_encoded_X), mlb_list\n",
    "\n",
    "# Multi-label encoding\n",
    "multi_label_columns = ['subject_Clean_other_mapped', 'resource_Clean_other_mapped', 'Languages_Clean_other_mapped']\n",
    "X_combined, mlb_list = process_multilabel_columns(df, multi_label_columns)"
   ]
  },
  {
   "cell_type": "code",
   "execution_count": 6,
   "metadata": {},
   "outputs": [
    {
     "name": "stderr",
     "output_type": "stream",
     "text": [
      "c:\\Users\\Yasaman\\anaconda3\\Lib\\site-packages\\umap\\umap_.py:1952: UserWarning: n_jobs value 1 overridden to 1 by setting random_state. Use no seed for parallelism.\n",
      "  warn(\n"
     ]
    }
   ],
   "source": [
    "# UMAP dimensionality reduction\n",
    "umap_reducer = umap.UMAP(n_components=2, random_state=42)\n",
    "X_umap = umap_reducer.fit_transform(X_combined)  # Use a subset for visualization"
   ]
  },
  {
   "cell_type": "code",
   "execution_count": 33,
   "metadata": {},
   "outputs": [],
   "source": [
    "# Apply DBSCAN clustering\n",
    "dbscan = DBSCAN( eps=0.5, min_samples=150)\n",
    "# Add UMAP results to the DataFrame\n",
    "umap_df = pd.DataFrame(X_umap, columns=['UMAP 1', 'UMAP 2'])\n",
    "umap_df['index'] = df.index\n",
    "umap_df['DBSCAN_Cluster'] = dbscan.fit_predict(umap_df[['UMAP 1', 'UMAP 2']])\n",
    "\n",
    "# Merge and process DataFrame\n",
    "umap_df = umap_df.merge(df, left_on='index', right_index=True)\n",
    "umap_df['found_date'] = pd.to_datetime(umap_df['found_date'], format='%Y', errors='coerce')\n",
    "umap_df = umap_df.dropna(subset=['found_date'])\n"
   ]
  },
  {
   "cell_type": "code",
   "execution_count": null,
   "metadata": {},
   "outputs": [
    {
     "ename": "SyntaxError",
     "evalue": "invalid syntax (2168242991.py, line 20)",
     "output_type": "error",
     "traceback": [
      "\u001b[1;36m  Cell \u001b[1;32mIn[84], line 20\u001b[1;36m\u001b[0m\n\u001b[1;33m    , 'resource_Clean_other_mapped':True}\u001b[0m\n\u001b[1;37m    ^\u001b[0m\n\u001b[1;31mSyntaxError\u001b[0m\u001b[1;31m:\u001b[0m invalid syntax\n"
     ]
    }
   ],
   "source": [
    "# Ensure discrete colors with a larger color palette for DBSCAN clusters\n",
    "import plotly.colors as colors\n",
    "\n",
    "\n",
    "# Map DBSCAN cluster IDs to specific colors\n",
    "umap_df['Cluster Color'] = umap_df['DBSCAN_Cluster'].map(lambda x: color_scale[x % len(color_scale)] if x != -1 else 'black')\n",
    "\n",
    "# Plot using Plotly with 20 different colors\n",
    "fig = px.scatter(\n",
    "    umap_df,\n",
    "    x='UMAP 1',\n",
    "    y='UMAP 2',\n",
    "    color=umap_df['DBSCAN_Cluster'].astype(str),  # Ensure clusters are treated as discrete categories\n",
    "    color_discrete_sequence=color_scale[:20],  # Use only the first 20 colors\n",
    "    title=\"UMAP dimensionality reduction\",\n",
    "    labels={'color': 'Cluster Label', 'Languages_Clean_other_mapped':'Lang'},\n",
    "    hover_data={'UMAP 1': True, 'UMAP 2': True, 'DBSCAN_Cluster': True, 'Languages_Clean_other_mapped':True,'subject_Clean_other_mapped':True, \n",
    "               , 'resource_Clean_other_mapped':True}\n",
    ")\n",
    "\n",
    "fig.update_layout(\n",
    "    xaxis_title=\"UMAP 1\",\n",
    "    yaxis_title=\"UMAP 2\",\n",
    "    legend_title=\"Cluster\",\n",
    "    hoverlabel=dict(bgcolor=\"white\", font_size=12)\n",
    ")\n",
    "\n",
    "fig.show()\n"
   ]
  },
  {
   "cell_type": "code",
   "execution_count": null,
   "metadata": {},
   "outputs": [],
   "source": []
  },
  {
   "cell_type": "code",
   "execution_count": 98,
   "metadata": {},
   "outputs": [
    {
     "name": "stderr",
     "output_type": "stream",
     "text": [
      "C:\\Users\\Yasaman\\AppData\\Local\\Temp\\ipykernel_54516\\2284903153.py:10: DeprecationWarning:\n",
      "\n",
      "DataFrameGroupBy.apply operated on the grouping columns. This behavior is deprecated, and in a future version of pandas the grouping columns will be excluded from the operation. Either pass `include_groups=False` to exclude the groupings or explicitly select the grouping columns after groupby to silence this warning.\n",
      "\n"
     ]
    },
    {
     "data": {
      "text/html": [
       "\n",
       "        <iframe\n",
       "            width=\"100%\"\n",
       "            height=\"650\"\n",
       "            src=\"http://127.0.0.1:8050/\"\n",
       "            frameborder=\"0\"\n",
       "            allowfullscreen\n",
       "            \n",
       "        ></iframe>\n",
       "        "
      ],
      "text/plain": [
       "<IPython.lib.display.IFrame at 0x16d37df2e90>"
      ]
     },
     "metadata": {},
     "output_type": "display_data"
    }
   ],
   "source": [
    "import dash\n",
    "from dash import dcc, html, Input, Output\n",
    "import plotly.express as px\n",
    "# Create a larger discrete color scale\n",
    "color_scale = colors.qualitative.Dark24+colors.qualitative.Light24+colors.qualitative.Bold\n",
    "\n",
    "# Summarize cluster attributes (from previous steps)\n",
    "cluster_summaries = (\n",
    "    umap_df.groupby('DBSCAN_Cluster')\n",
    "    .apply(summarize_cluster)\n",
    "    .apply(pd.Series)\n",
    ")\n",
    "\n",
    "cluster_summaries['Cluster Name'] = (\n",
    "    'Lang: ' + cluster_summaries['Languages'] +\n",
    "    ', Subj: ' + cluster_summaries['Subject'] +\n",
    "    ', Res: ' + cluster_summaries['Resource']\n",
    ")\n",
    "\n",
    "cluster_name_map = cluster_summaries['Cluster Name'].to_dict()\n",
    "umap_df['Cluster Name'] = umap_df['DBSCAN_Cluster'].map(cluster_name_map)\n",
    "umap_df.loc[umap_df['DBSCAN_Cluster'] == -1, 'Cluster Name'] = 'Unclustered'\n",
    "\n",
    "# Create initial scatter plot\n",
    "fig = px.scatter(\n",
    "    umap_df,\n",
    "    x='UMAP 1',\n",
    "    y='UMAP 2',\n",
    "    color='Cluster Name',\n",
    "    color_discrete_sequence=color_scale,\n",
    "    title=\"UMAP Dimensionality Reduction with Cluster Names\",\n",
    "    hover_data={\n",
    "        'UMAP 1': True,\n",
    "        'UMAP 2': True,\n",
    "        'DBSCAN_Cluster': True,\n",
    "        'Languages_Clean_other_mapped': True,\n",
    "        'subject_Clean_other_mapped': True,\n",
    "        'resource_Clean_other_mapped': True\n",
    "    },\n",
    "    labels={'color': 'Cluster Label'}\n",
    ")\n",
    "\n",
    "fig.update_layout(\n",
    "    legend=dict(\n",
    "        orientation=\"v\",  # Vertical orientation for better scrolling\n",
    "        yanchor=\"top\",\n",
    "        y=1.0,\n",
    "        xanchor=\"left\",\n",
    "        x=1.02,  # Position the legend outside the plot\n",
    "        font=dict(\n",
    "            size=5  # Adjust font size\n",
    "        ),\n",
    "        traceorder=\"normal\",  # Keep the order as is\n",
    "        title=dict(text=\"Cluster Labels\"),  # Optional: Add a legend title\n",
    "        itemclick=\"toggle\",  # Allow toggling traces by clicking legend items\n",
    "        itemdoubleclick=\"toggleothers\",  # Double-click behavior\n",
    "    ),\n",
    "    margin=dict(r=200),  # Add margin to accommodate the legend\n",
    ")\n",
    "\n",
    "# Add a fixed height to allow scrolling in the legend\n",
    "fig.update_layout(\n",
    "    legend=dict(\n",
    "        itemsizing=\"constant\",\n",
    "        valign=\"top\",\n",
    "    ),\n",
    "   \n",
    ")\n",
    "\n",
    "\n",
    "\n",
    "# Dash App\n",
    "app = dash.Dash(__name__)\n",
    "\n",
    "app.layout = html.Div([\n",
    "    dcc.Graph(\n",
    "        id='umap-plot',\n",
    "        figure=fig\n",
    "    ),\n",
    "    html.Div(id='cluster-info', style={'padding': '20px', 'font-size': '18px'})\n",
    "])\n",
    "\n",
    "# Callback to display cluster information\n",
    "@app.callback(\n",
    "    Output('cluster-info', 'children'),\n",
    "    Input('umap-plot', 'clickData')\n",
    ")\n",
    "def display_cluster_info(click_data):\n",
    "    if click_data is None:\n",
    "        return \"Click on a cluster point to view detailed information.\"\n",
    "\n",
    "    # Extract cluster name from clicked point\n",
    "    cluster_name = click_data['points'][0]['customdata'][-1]  # Assuming 'Cluster Name' is the last hover data field\n",
    "    cluster_id = click_data['points'][0]['customdata'][2]  # Assuming 'DBSCAN_Cluster' is the 3rd hover data field\n",
    "\n",
    "    # Retrieve detailed information about the cluster\n",
    "    cluster_details = cluster_summaries.loc[cluster_id]\n",
    "\n",
    "    # Format cluster information for display\n",
    "    details = f\"\"\"\n",
    "    **Cluster Name:** {cluster_name}\n",
    "    - Dominant Language: {cluster_details['Languages']}\n",
    "    - Dominant Subject: {cluster_details['Subject']}\n",
    "    - Dominant Resource: {cluster_details['Resource']}\n",
    "    \"\"\"\n",
    "    return details\n",
    "\n",
    "# Run the app\n",
    "if __name__ == '__main__':\n",
    "    app.run_server(debug=True)\n"
   ]
  },
  {
   "cell_type": "code",
   "execution_count": 117,
   "metadata": {},
   "outputs": [],
   "source": [
    "umap_df[['UMAP 1', 'UMAP 2', 'index', 'DBSCAN_Cluster', 'series',\n",
    "       'identifier_swisscollections', 'subject_form', 'library_call_number',\n",
    "        'date_of_publication_or_production_standardised',\n",
    "        'physical_description',  'title','Cluster Name',\n",
    "       'found_date', 'Languages_Clean_other_mapped',\n",
    "       'subject_Clean_other_mapped',\n",
    "       'resource_Clean_other_mapped' , 'lat', 'lng', 'Cluster Color', 'city']].to_csv('final_umap_included.csv')"
   ]
  },
  {
   "cell_type": "code",
   "execution_count": 114,
   "metadata": {},
   "outputs": [],
   "source": [
    "umap_df['title']=umap_df['title'].apply(lambda x: x.replace('\\\"', '').replace('\\'', ''))"
   ]
  },
  {
   "cell_type": "code",
   "execution_count": 116,
   "metadata": {},
   "outputs": [
    {
     "data": {
      "text/plain": [
       "0              Brief an Breitkopf und Härtel\n",
       "1               Brief an [Gottlieb Hufeland]\n",
       "2                            Brief an Hofrat\n",
       "3                         Brief an Unbekannt\n",
       "4         Brief an [Christian Gottlob] Voigt\n",
       "                         ...                \n",
       "119288        6 Briefe an Gustav Teichmüller\n",
       "119289        3 Briefe an Gustav Teichmüller\n",
       "119290        2 Briefe an Gustav Teichmüller\n",
       "119291                         Brief an Behm\n",
       "119292        2 Briefe an Gustav Teichmüller\n",
       "Name: title, Length: 119253, dtype: object"
      ]
     },
     "execution_count": 116,
     "metadata": {},
     "output_type": "execute_result"
    }
   ],
   "source": [
    "umap_df['title']"
   ]
  },
  {
   "cell_type": "code",
   "execution_count": 107,
   "metadata": {},
   "outputs": [
    {
     "data": {
      "text/plain": [
       "array([ 0,  1,  3,  4,  5, -1,  6,  7,  8,  9, 10, 12, 11, 13, 14, 15, 16,\n",
       "       17,  2, 18, 19, 20, 21, 22, 23, 24, 25, 26, 27, 28, 29, 30, 31, 32,\n",
       "       33, 34, 35, 36, 37, 38, 39, 40, 41, 42, 43, 44, 45, 46],\n",
       "      dtype=int64)"
      ]
     },
     "execution_count": 107,
     "metadata": {},
     "output_type": "execute_result"
    }
   ],
   "source": [
    "umap_df['DBSCAN_Cluster'].unique()"
   ]
  }
 ],
 "metadata": {
  "kernelspec": {
   "display_name": "base",
   "language": "python",
   "name": "python3"
  },
  "language_info": {
   "codemirror_mode": {
    "name": "ipython",
    "version": 3
   },
   "file_extension": ".py",
   "mimetype": "text/x-python",
   "name": "python",
   "nbconvert_exporter": "python",
   "pygments_lexer": "ipython3",
   "version": "3.11.10"
  }
 },
 "nbformat": 4,
 "nbformat_minor": 2
}
