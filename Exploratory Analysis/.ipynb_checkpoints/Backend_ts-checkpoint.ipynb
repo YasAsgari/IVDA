{
 "cells": [
  {
   "cell_type": "code",
   "execution_count": 1,
   "id": "5c6fb43d-2ea4-4fb7-854f-a968fb740a68",
   "metadata": {},
   "outputs": [],
   "source": [
    "import pandas as pd"
   ]
  },
  {
   "cell_type": "code",
   "execution_count": null,
   "id": "c24989d6-c958-4f61-a43a-7b723d6af533",
   "metadata": {},
   "outputs": [],
   "source": []
  },
  {
   "cell_type": "code",
   "execution_count": 2,
   "id": "f3217e61-58e5-4c80-9b11-39587e70de3d",
   "metadata": {},
   "outputs": [],
   "source": [
    "df=pd.read_csv('final_umap_included.csv')"
   ]
  },
  {
   "cell_type": "code",
   "execution_count": 3,
   "id": "54166b9e-3ed7-4f62-a02d-563ac2bbf11f",
   "metadata": {},
   "outputs": [
    {
     "data": {
      "text/plain": [
       "(119253, 21)"
      ]
     },
     "execution_count": 3,
     "metadata": {},
     "output_type": "execute_result"
    }
   ],
   "source": [
    "df.shape"
   ]
  },
  {
   "cell_type": "code",
   "execution_count": 4,
   "id": "b5f4a6c5-2ee5-4c2f-997e-a086e40cc6a2",
   "metadata": {},
   "outputs": [
    {
     "data": {
      "text/plain": [
       "Index(['Unnamed: 0', 'UMAP 1', 'UMAP 2', 'index', 'DBSCAN_Cluster', 'series',\n",
       "       'identifier_swisscollections', 'subject_form', 'library_call_number',\n",
       "       'date_of_publication_or_production_standardised',\n",
       "       'physical_description', 'title', 'Cluster Name', 'found_date',\n",
       "       'Languages_Clean_other_mapped', 'subject_Clean_other_mapped',\n",
       "       'resource_Clean_other_mapped', 'lat', 'lng', 'Cluster Color', 'city'],\n",
       "      dtype='object')"
      ]
     },
     "execution_count": 4,
     "metadata": {},
     "output_type": "execute_result"
    }
   ],
   "source": [
    "df.columns"
   ]
  },
  {
   "cell_type": "code",
   "execution_count": 5,
   "id": "2ef85a57-b93f-4373-bec2-6e648dd12185",
   "metadata": {},
   "outputs": [],
   "source": [
    "df.rename(columns={'Unnamed: 0': 'id'}, inplace=True)\n",
    "df.found_date=df.found_date.apply(lambda x: str (x)[:4])"
   ]
  },
  {
   "cell_type": "code",
   "execution_count": 6,
   "id": "5882adb2-04f8-4d91-b875-f929600c70c6",
   "metadata": {},
   "outputs": [],
   "source": [
    "df_extra=pd.read_csv('final_df.csv')"
   ]
  },
  {
   "cell_type": "code",
   "execution_count": 7,
   "id": "3164c791-a869-465b-b904-9cdbb6cc9913",
   "metadata": {},
   "outputs": [],
   "source": [
    "df_final = pd.merge(df, df_extra,  left_on='id', right_index=True, how='left')"
   ]
  },
  {
   "cell_type": "code",
   "execution_count": 8,
   "id": "f5e48715-9eb8-43be-91d1-b18127b43ee8",
   "metadata": {},
   "outputs": [],
   "source": [
    "df_final=df_final.dropna()"
   ]
  },
  {
   "cell_type": "code",
   "execution_count": null,
   "id": "d2e17fb0-5e90-41ba-994c-c01c5164d61e",
   "metadata": {},
   "outputs": [],
   "source": []
  },
  {
   "cell_type": "code",
   "execution_count": 9,
   "id": "3a335a1f-e4ae-424e-8114-f8d225483bbb",
   "metadata": {},
   "outputs": [],
   "source": [
    "#fetching iso codes\n",
    "from geopy.geocoders import Nominatim\n",
    "import pycountry\n",
    "import time\n",
    "from tqdm import tqdm\n",
    "\n",
    "def get_iso3_code(country_name):\n",
    "    try:\n",
    "        country = pycountry.countries.get(name=country_name)\n",
    "        return country.alpha_3 if country else None\n",
    "    except KeyError:\n",
    "        return None"
   ]
  },
  {
   "cell_type": "code",
   "execution_count": 18,
   "id": "095a469b-55ee-478a-a910-c88b9b1d2e2a",
   "metadata": {},
   "outputs": [],
   "source": [
    "df_final['iso3'] = df_final['country'].apply(get_iso3_code)"
   ]
  },
  {
   "cell_type": "code",
   "execution_count": 19,
   "id": "8ac04366-dfda-45dd-b6b9-46b5fcd9c29e",
   "metadata": {},
   "outputs": [],
   "source": [
    "df_final=df_final.sample(n=20000)"
   ]
  },
  {
   "cell_type": "code",
   "execution_count": 20,
   "id": "d0907c24-cb64-4a33-add2-152bb67100fa",
   "metadata": {},
   "outputs": [
    {
     "data": {
      "text/plain": [
       "(20000, 45)"
      ]
     },
     "execution_count": 20,
     "metadata": {},
     "output_type": "execute_result"
    }
   ],
   "source": [
    "df_final.shape"
   ]
  },
  {
   "cell_type": "code",
   "execution_count": null,
   "id": "cda51f34-ea0c-409d-a4a4-79a0e248df52",
   "metadata": {},
   "outputs": [],
   "source": []
  },
  {
   "cell_type": "code",
   "execution_count": null,
   "id": "b3144ee6-4a26-40d9-84df-8086325727ef",
   "metadata": {},
   "outputs": [],
   "source": [
    "# def get_iso_alpha_3(lat, lon, geolocator, cache):\n",
    "#     if (lat, lon) in cache:\n",
    "#         return cache[(lat, lon)]\n",
    "#     try:\n",
    "#         location = geolocator.reverse((lat, lon), language='en')\n",
    "#         if location and 'country_code' in location.raw['address']:\n",
    "#             alpha_2_code = location.raw['address']['country_code'].upper()\n",
    "#             country = pycountry.countries.get(alpha_2=alpha_2_code)\n",
    "#             if country:\n",
    "#                 cache[(lat, lon)] = country.alpha_3\n",
    "#                 return country.alpha_3\n",
    "#             else:\n",
    "#                 return \"ISO Alpha-3 code not found.\"\n",
    "#         return \"Country code not found.\"\n",
    "#     except Exception as e:\n",
    "#         return f\"Error: {str(e)}\"\n",
    "\n",
    "# # Initialize geolocator and cache\n",
    "# geolocator = Nominatim(user_agent=\"geoapi\")\n",
    "# cache = {}"
   ]
  },
  {
   "cell_type": "code",
   "execution_count": null,
   "id": "f74c0d72-2e84-4d7c-bccf-97fe66772d80",
   "metadata": {},
   "outputs": [],
   "source": [
    "# iso_codes = []\n",
    "# for i in tqdm(range(len(df))):\n",
    "#     lat, lng = df.iloc[i][\"lat\"], df.iloc[i][\"lng\"]\n",
    "#     iso_codes.append(get_iso_alpha_3(lat, lng, geolocator, cache))\n",
    "#     time.sleep(0.1)"
   ]
  },
  {
   "cell_type": "code",
   "execution_count": null,
   "id": "df8a7cf9-8b39-4c69-8157-f4c175208fba",
   "metadata": {},
   "outputs": [],
   "source": [
    "#df[\"iso_codes\"]=iso_codes"
   ]
  },
  {
   "cell_type": "code",
   "execution_count": null,
   "id": "e230429f-6ad1-4054-a623-a0a2dfe3d291",
   "metadata": {},
   "outputs": [],
   "source": []
  },
  {
   "cell_type": "code",
   "execution_count": 17,
   "id": "bd636cf2-cb91-4b50-a519-b51c95553679",
   "metadata": {},
   "outputs": [
    {
     "ename": "KeyError",
     "evalue": "'iso3'",
     "output_type": "error",
     "traceback": [
      "\u001b[1;31m---------------------------------------------------------------------------\u001b[0m",
      "\u001b[1;31mKeyError\u001b[0m                                  Traceback (most recent call last)",
      "File \u001b[1;32m~\\AppData\\Roaming\\Python\\Python312\\site-packages\\pandas\\core\\indexes\\base.py:3805\u001b[0m, in \u001b[0;36mIndex.get_loc\u001b[1;34m(self, key)\u001b[0m\n\u001b[0;32m   3804\u001b[0m \u001b[38;5;28;01mtry\u001b[39;00m:\n\u001b[1;32m-> 3805\u001b[0m     \u001b[38;5;28;01mreturn\u001b[39;00m \u001b[38;5;28;43mself\u001b[39;49m\u001b[38;5;241;43m.\u001b[39;49m\u001b[43m_engine\u001b[49m\u001b[38;5;241;43m.\u001b[39;49m\u001b[43mget_loc\u001b[49m\u001b[43m(\u001b[49m\u001b[43mcasted_key\u001b[49m\u001b[43m)\u001b[49m\n\u001b[0;32m   3806\u001b[0m \u001b[38;5;28;01mexcept\u001b[39;00m \u001b[38;5;167;01mKeyError\u001b[39;00m \u001b[38;5;28;01mas\u001b[39;00m err:\n",
      "File \u001b[1;32mindex.pyx:167\u001b[0m, in \u001b[0;36mpandas._libs.index.IndexEngine.get_loc\u001b[1;34m()\u001b[0m\n",
      "File \u001b[1;32mindex.pyx:196\u001b[0m, in \u001b[0;36mpandas._libs.index.IndexEngine.get_loc\u001b[1;34m()\u001b[0m\n",
      "File \u001b[1;32mpandas\\\\_libs\\\\hashtable_class_helper.pxi:7081\u001b[0m, in \u001b[0;36mpandas._libs.hashtable.PyObjectHashTable.get_item\u001b[1;34m()\u001b[0m\n",
      "File \u001b[1;32mpandas\\\\_libs\\\\hashtable_class_helper.pxi:7089\u001b[0m, in \u001b[0;36mpandas._libs.hashtable.PyObjectHashTable.get_item\u001b[1;34m()\u001b[0m\n",
      "\u001b[1;31mKeyError\u001b[0m: 'iso3'",
      "\nThe above exception was the direct cause of the following exception:\n",
      "\u001b[1;31mKeyError\u001b[0m                                  Traceback (most recent call last)",
      "Cell \u001b[1;32mIn[17], line 48\u001b[0m\n\u001b[0;32m     24\u001b[0m     \u001b[38;5;28;01mreturn\u001b[39;00m title\n\u001b[0;32m     27\u001b[0m \u001b[38;5;28;01mfor\u001b[39;00m index, row \u001b[38;5;129;01min\u001b[39;00m df\u001b[38;5;241m.\u001b[39miterrows():\n\u001b[0;32m     28\u001b[0m     formatted_object \u001b[38;5;241m=\u001b[39m \u001b[38;5;124mf\u001b[39m\u001b[38;5;124m\"\"\"\u001b[39m\n\u001b[0;32m     29\u001b[0m \u001b[38;5;124m    \u001b[39m\u001b[38;5;130;01m{{\u001b[39;00m\n\u001b[0;32m     30\u001b[0m \u001b[38;5;124m        id: \u001b[39m\u001b[38;5;132;01m{\u001b[39;00mindex\u001b[38;5;132;01m}\u001b[39;00m\u001b[38;5;124m,\u001b[39m\n\u001b[0;32m     31\u001b[0m \u001b[38;5;124m        title: \u001b[39m\u001b[38;5;124m\"\u001b[39m\u001b[38;5;132;01m{\u001b[39;00mrow[\u001b[38;5;124m'\u001b[39m\u001b[38;5;124mtitle\u001b[39m\u001b[38;5;124m'\u001b[39m]\u001b[38;5;132;01m}\u001b[39;00m\u001b[38;5;124m\"\u001b[39m\u001b[38;5;124m,\u001b[39m\n\u001b[0;32m     32\u001b[0m \u001b[38;5;124m        swiss_id: \u001b[39m\u001b[38;5;132;01m{\u001b[39;00mrow[\u001b[38;5;124m'\u001b[39m\u001b[38;5;124midentifier_swisscollections\u001b[39m\u001b[38;5;124m'\u001b[39m]\u001b[38;5;132;01m}\u001b[39;00m\u001b[38;5;124m,\u001b[39m\n\u001b[0;32m     33\u001b[0m \u001b[38;5;124m        series: \u001b[39m\u001b[38;5;124m\"\u001b[39m\u001b[38;5;132;01m{\u001b[39;00mrow[\u001b[38;5;124m'\u001b[39m\u001b[38;5;124mseries\u001b[39m\u001b[38;5;124m'\u001b[39m]\u001b[38;5;132;01m}\u001b[39;00m\u001b[38;5;124m\"\u001b[39m\u001b[38;5;124m,\u001b[39m\n\u001b[0;32m     34\u001b[0m \u001b[38;5;124m        languages: \u001b[39m\u001b[38;5;132;01m{\u001b[39;00mformat_list_field(row[\u001b[38;5;124m'\u001b[39m\u001b[38;5;124mLanguages_Clean_other_mapped\u001b[39m\u001b[38;5;124m'\u001b[39m])\u001b[38;5;132;01m}\u001b[39;00m\u001b[38;5;124m,\u001b[39m\n\u001b[0;32m     35\u001b[0m \u001b[38;5;124m        subject_forms: \u001b[39m\u001b[38;5;132;01m{\u001b[39;00mformat_list_field(row[\u001b[38;5;124m'\u001b[39m\u001b[38;5;124msubject_Clean_other_mapped\u001b[39m\u001b[38;5;124m'\u001b[39m])\u001b[38;5;132;01m}\u001b[39;00m\u001b[38;5;124m,\u001b[39m\n\u001b[0;32m     36\u001b[0m \u001b[38;5;124m        physical_description: \u001b[39m\u001b[38;5;124m\"\u001b[39m\u001b[38;5;124m\"\u001b[39m\u001b[38;5;124m,\u001b[39m\n\u001b[0;32m     37\u001b[0m \u001b[38;5;124m        current_library: \u001b[39m\u001b[38;5;130;01m{{\u001b[39;00m\n\u001b[0;32m     38\u001b[0m \u001b[38;5;124m            address: \u001b[39m\u001b[38;5;124m\"\u001b[39m\u001b[38;5;132;01m{\u001b[39;00mrow[\u001b[38;5;124m'\u001b[39m\u001b[38;5;124mlibrary_call_number\u001b[39m\u001b[38;5;124m'\u001b[39m]\u001b[38;5;132;01m}\u001b[39;00m\u001b[38;5;124m\"\u001b[39m\u001b[38;5;124m,\u001b[39m\n\u001b[0;32m     39\u001b[0m \u001b[38;5;124m            lat: \u001b[39m\u001b[38;5;132;01m{\u001b[39;00mrow[\u001b[38;5;124m'\u001b[39m\u001b[38;5;124mlat\u001b[39m\u001b[38;5;124m'\u001b[39m]\u001b[38;5;132;01m}\u001b[39;00m\u001b[38;5;124m,\u001b[39m\n\u001b[0;32m     40\u001b[0m \u001b[38;5;124m            lng: \u001b[39m\u001b[38;5;132;01m{\u001b[39;00mrow[\u001b[38;5;124m'\u001b[39m\u001b[38;5;124mlng\u001b[39m\u001b[38;5;124m'\u001b[39m]\u001b[38;5;132;01m}\u001b[39;00m\u001b[38;5;124m,\u001b[39m\n\u001b[0;32m     41\u001b[0m \u001b[38;5;124m        \u001b[39m\u001b[38;5;130;01m}}\u001b[39;00m\u001b[38;5;124m,\u001b[39m\n\u001b[0;32m     42\u001b[0m \u001b[38;5;124m        resource_types: \u001b[39m\u001b[38;5;132;01m{\u001b[39;00mformat_list_field(row[\u001b[38;5;124m'\u001b[39m\u001b[38;5;124mresource_Clean_other_mapped\u001b[39m\u001b[38;5;124m'\u001b[39m])\u001b[38;5;132;01m}\u001b[39;00m\u001b[38;5;124m,\u001b[39m\n\u001b[0;32m     43\u001b[0m \u001b[38;5;124m        publication: \u001b[39m\u001b[38;5;130;01m{{\u001b[39;00m\n\u001b[0;32m     44\u001b[0m \u001b[38;5;124m            city: \u001b[39m\u001b[38;5;124m\"\u001b[39m\u001b[38;5;132;01m{\u001b[39;00mrow[\u001b[38;5;124m'\u001b[39m\u001b[38;5;124mcity\u001b[39m\u001b[38;5;124m'\u001b[39m]\u001b[38;5;132;01m}\u001b[39;00m\u001b[38;5;124m\"\u001b[39m\u001b[38;5;124m,\u001b[39m\n\u001b[0;32m     45\u001b[0m \u001b[38;5;124m            year: \u001b[39m\u001b[38;5;132;01m{\u001b[39;00mrow[\u001b[38;5;124m'\u001b[39m\u001b[38;5;124mfound_date\u001b[39m\u001b[38;5;124m'\u001b[39m]\u001b[38;5;132;01m}\u001b[39;00m\u001b[38;5;124m,\u001b[39m\n\u001b[0;32m     46\u001b[0m \u001b[38;5;124m            lng: \u001b[39m\u001b[38;5;132;01m{\u001b[39;00mrow[\u001b[38;5;124m'\u001b[39m\u001b[38;5;124mlng\u001b[39m\u001b[38;5;124m'\u001b[39m]\u001b[38;5;132;01m}\u001b[39;00m\u001b[38;5;124m,\u001b[39m\n\u001b[0;32m     47\u001b[0m \u001b[38;5;124m            lat: \u001b[39m\u001b[38;5;132;01m{\u001b[39;00mrow[\u001b[38;5;124m'\u001b[39m\u001b[38;5;124mlat\u001b[39m\u001b[38;5;124m'\u001b[39m]\u001b[38;5;132;01m}\u001b[39;00m\u001b[38;5;124m,\u001b[39m\n\u001b[1;32m---> 48\u001b[0m \u001b[38;5;124m            iso: \u001b[39m\u001b[38;5;132;01m{\u001b[39;00m\u001b[43mrow\u001b[49m\u001b[43m[\u001b[49m\u001b[38;5;124;43m'\u001b[39;49m\u001b[38;5;124;43miso3\u001b[39;49m\u001b[38;5;124;43m'\u001b[39;49m\u001b[43m]\u001b[49m\u001b[38;5;132;01m}\u001b[39;00m\n\u001b[0;32m     49\u001b[0m \u001b[38;5;124m        \u001b[39m\u001b[38;5;130;01m}}\u001b[39;00m\u001b[38;5;124m,\u001b[39m\n\u001b[0;32m     50\u001b[0m \u001b[38;5;124m        tsne_coordinates: \u001b[39m\u001b[38;5;130;01m{{\u001b[39;00m\n\u001b[0;32m     51\u001b[0m \u001b[38;5;124m            color: \u001b[39m\u001b[38;5;132;01m{\u001b[39;00mrow[\u001b[38;5;124m'\u001b[39m\u001b[38;5;124mDBSCAN_Cluster\u001b[39m\u001b[38;5;124m'\u001b[39m]\u001b[38;5;132;01m}\u001b[39;00m\u001b[38;5;124m,\u001b[39m\n\u001b[0;32m     52\u001b[0m \u001b[38;5;124m            x: \u001b[39m\u001b[38;5;132;01m{\u001b[39;00mrow[\u001b[38;5;124m'\u001b[39m\u001b[38;5;124mUMAP 1\u001b[39m\u001b[38;5;124m'\u001b[39m]\u001b[38;5;132;01m}\u001b[39;00m\u001b[38;5;124m,\u001b[39m\n\u001b[0;32m     53\u001b[0m \u001b[38;5;124m            y: \u001b[39m\u001b[38;5;132;01m{\u001b[39;00mrow[\u001b[38;5;124m'\u001b[39m\u001b[38;5;124mUMAP 2\u001b[39m\u001b[38;5;124m'\u001b[39m]\u001b[38;5;132;01m}\u001b[39;00m\u001b[38;5;124m,\u001b[39m\n\u001b[0;32m     54\u001b[0m \u001b[38;5;124m        \u001b[39m\u001b[38;5;130;01m}}\u001b[39;00m\u001b[38;5;124m,\u001b[39m\n\u001b[0;32m     55\u001b[0m \u001b[38;5;124m    \u001b[39m\u001b[38;5;130;01m}}\u001b[39;00m\u001b[38;5;124m\"\"\"\u001b[39m\n\u001b[0;32m     57\u001b[0m     formatted_data\u001b[38;5;241m.\u001b[39mappend(formatted_object)\n\u001b[0;32m     59\u001b[0m \u001b[38;5;66;03m# Join all formatted objects into one big TypeScript array\u001b[39;00m\n",
      "File \u001b[1;32m~\\AppData\\Roaming\\Python\\Python312\\site-packages\\pandas\\core\\series.py:1121\u001b[0m, in \u001b[0;36mSeries.__getitem__\u001b[1;34m(self, key)\u001b[0m\n\u001b[0;32m   1118\u001b[0m     \u001b[38;5;28;01mreturn\u001b[39;00m \u001b[38;5;28mself\u001b[39m\u001b[38;5;241m.\u001b[39m_values[key]\n\u001b[0;32m   1120\u001b[0m \u001b[38;5;28;01melif\u001b[39;00m key_is_scalar:\n\u001b[1;32m-> 1121\u001b[0m     \u001b[38;5;28;01mreturn\u001b[39;00m \u001b[38;5;28;43mself\u001b[39;49m\u001b[38;5;241;43m.\u001b[39;49m\u001b[43m_get_value\u001b[49m\u001b[43m(\u001b[49m\u001b[43mkey\u001b[49m\u001b[43m)\u001b[49m\n\u001b[0;32m   1123\u001b[0m \u001b[38;5;66;03m# Convert generator to list before going through hashable part\u001b[39;00m\n\u001b[0;32m   1124\u001b[0m \u001b[38;5;66;03m# (We will iterate through the generator there to check for slices)\u001b[39;00m\n\u001b[0;32m   1125\u001b[0m \u001b[38;5;28;01mif\u001b[39;00m is_iterator(key):\n",
      "File \u001b[1;32m~\\AppData\\Roaming\\Python\\Python312\\site-packages\\pandas\\core\\series.py:1237\u001b[0m, in \u001b[0;36mSeries._get_value\u001b[1;34m(self, label, takeable)\u001b[0m\n\u001b[0;32m   1234\u001b[0m     \u001b[38;5;28;01mreturn\u001b[39;00m \u001b[38;5;28mself\u001b[39m\u001b[38;5;241m.\u001b[39m_values[label]\n\u001b[0;32m   1236\u001b[0m \u001b[38;5;66;03m# Similar to Index.get_value, but we do not fall back to positional\u001b[39;00m\n\u001b[1;32m-> 1237\u001b[0m loc \u001b[38;5;241m=\u001b[39m \u001b[38;5;28;43mself\u001b[39;49m\u001b[38;5;241;43m.\u001b[39;49m\u001b[43mindex\u001b[49m\u001b[38;5;241;43m.\u001b[39;49m\u001b[43mget_loc\u001b[49m\u001b[43m(\u001b[49m\u001b[43mlabel\u001b[49m\u001b[43m)\u001b[49m\n\u001b[0;32m   1239\u001b[0m \u001b[38;5;28;01mif\u001b[39;00m is_integer(loc):\n\u001b[0;32m   1240\u001b[0m     \u001b[38;5;28;01mreturn\u001b[39;00m \u001b[38;5;28mself\u001b[39m\u001b[38;5;241m.\u001b[39m_values[loc]\n",
      "File \u001b[1;32m~\\AppData\\Roaming\\Python\\Python312\\site-packages\\pandas\\core\\indexes\\base.py:3812\u001b[0m, in \u001b[0;36mIndex.get_loc\u001b[1;34m(self, key)\u001b[0m\n\u001b[0;32m   3807\u001b[0m     \u001b[38;5;28;01mif\u001b[39;00m \u001b[38;5;28misinstance\u001b[39m(casted_key, \u001b[38;5;28mslice\u001b[39m) \u001b[38;5;129;01mor\u001b[39;00m (\n\u001b[0;32m   3808\u001b[0m         \u001b[38;5;28misinstance\u001b[39m(casted_key, abc\u001b[38;5;241m.\u001b[39mIterable)\n\u001b[0;32m   3809\u001b[0m         \u001b[38;5;129;01mand\u001b[39;00m \u001b[38;5;28many\u001b[39m(\u001b[38;5;28misinstance\u001b[39m(x, \u001b[38;5;28mslice\u001b[39m) \u001b[38;5;28;01mfor\u001b[39;00m x \u001b[38;5;129;01min\u001b[39;00m casted_key)\n\u001b[0;32m   3810\u001b[0m     ):\n\u001b[0;32m   3811\u001b[0m         \u001b[38;5;28;01mraise\u001b[39;00m InvalidIndexError(key)\n\u001b[1;32m-> 3812\u001b[0m     \u001b[38;5;28;01mraise\u001b[39;00m \u001b[38;5;167;01mKeyError\u001b[39;00m(key) \u001b[38;5;28;01mfrom\u001b[39;00m \u001b[38;5;21;01merr\u001b[39;00m\n\u001b[0;32m   3813\u001b[0m \u001b[38;5;28;01mexcept\u001b[39;00m \u001b[38;5;167;01mTypeError\u001b[39;00m:\n\u001b[0;32m   3814\u001b[0m     \u001b[38;5;66;03m# If we have a listlike key, _check_indexing_error will raise\u001b[39;00m\n\u001b[0;32m   3815\u001b[0m     \u001b[38;5;66;03m#  InvalidIndexError. Otherwise we fall through and re-raise\u001b[39;00m\n\u001b[0;32m   3816\u001b[0m     \u001b[38;5;66;03m#  the TypeError.\u001b[39;00m\n\u001b[0;32m   3817\u001b[0m     \u001b[38;5;28mself\u001b[39m\u001b[38;5;241m.\u001b[39m_check_indexing_error(key)\n",
      "\u001b[1;31mKeyError\u001b[0m: 'iso3'"
     ]
    }
   ],
   "source": [
    "#formatting data\n",
    "import ast\n",
    "formatted_data = []\n",
    "\n",
    "def format_list_field(field_value):\n",
    "    if isinstance(field_value, str):\n",
    "        try:\n",
    "           \n",
    "            parsed_value = ast.literal_eval(field_value)\n",
    "            if isinstance(parsed_value, list):\n",
    "                return f\"[{', '.join([f'\\\"{item}\\\"' for item in parsed_value])}]\"\n",
    "        except (ValueError, SyntaxError):\n",
    "            \n",
    "            return f\"[\\\"{field_value}\\\"]\"\n",
    "    elif isinstance(field_value, list):\n",
    "        return f\"[{', '.join([f'\\\"{item}\\\"' for item in field_value])}]\"\n",
    "    return f\"[\\\"{field_value}\\\"]\"\n",
    "\n",
    "# Clean title field to remove inner quotes\n",
    "def clean_title(title):\n",
    "    if isinstance(title, str):\n",
    "        # Replace any inner quotes with escaped quotes\n",
    "        return title.replace(\"\\\"\", \"\\\\\\\"\")\n",
    "    return title\n",
    "\n",
    "\n",
    "for index, row in df_final.iterrows():\n",
    "    formatted_object = f\"\"\"\n",
    "    {{\n",
    "        id: {index},\n",
    "        title: \"{row['title']}\",\n",
    "        swiss_id: {row['identifier_swisscollections']},\n",
    "        series: \"{row['series']}\",\n",
    "        languages: {format_list_field(row['Languages_Clean_other_mapped'])},\n",
    "        subject_forms: {format_list_field(row['subject_Clean_other_mapped'])},\n",
    "        physical_description: \"\",\n",
    "        current_library: {{\n",
    "            address: \"{row['library_call_number']}\",\n",
    "            lat: {row['lat']},\n",
    "            lng: {row['lng']},\n",
    "        }},\n",
    "        resource_types: {format_list_field(row['resource_Clean_other_mapped'])},\n",
    "        publication: {{\n",
    "            city: \"{row['city']}\",\n",
    "            year: {row['found_date']},\n",
    "            lng: {row['lng']},\n",
    "            lat: {row['lat']},\n",
    "            iso: {row['iso3']}\n",
    "        }},\n",
    "        tsne_coordinates: {{\n",
    "            color: {row['DBSCAN_Cluster']},\n",
    "            x: {row['UMAP 1']},\n",
    "            y: {row['UMAP 2']},\n",
    "        }},\n",
    "    }}\"\"\"\n",
    "    \n",
    "    formatted_data.append(formatted_object)\n",
    "\n",
    "# Join all formatted objects into one big TypeScript array\n",
    "ts_file_content = \"export const sample_data = [\" + \",\\n\".join(formatted_data) + \"\\n];\"\n",
    "\n",
    "# Path to save the .ts file\n",
    "ts_file_path = \"sample_data_1.ts\"\n",
    "\n",
    "# Save the content to the .ts file\n",
    "with open(ts_file_path, \"w\", encoding=\"utf-8\") as ts_file:\n",
    "    ts_file.write(ts_file_content)\n",
    "\n",
    "print(f\"TypeScript file saved as {ts_file_path}\")\n"
   ]
  },
  {
   "cell_type": "code",
   "execution_count": null,
   "id": "d1fba980-4fa0-4052-a890-5bfe49931c23",
   "metadata": {},
   "outputs": [],
   "source": []
  },
  {
   "cell_type": "code",
   "execution_count": null,
   "id": "cd9a42ee-f9a2-492e-8233-7e96f4d79a7f",
   "metadata": {},
   "outputs": [],
   "source": []
  }
 ],
 "metadata": {
  "kernelspec": {
   "display_name": "Python 3 (ipykernel)",
   "language": "python",
   "name": "python3"
  },
  "language_info": {
   "codemirror_mode": {
    "name": "ipython",
    "version": 3
   },
   "file_extension": ".py",
   "mimetype": "text/x-python",
   "name": "python",
   "nbconvert_exporter": "python",
   "pygments_lexer": "ipython3",
   "version": "3.12.5"
  }
 },
 "nbformat": 4,
 "nbformat_minor": 5
}
