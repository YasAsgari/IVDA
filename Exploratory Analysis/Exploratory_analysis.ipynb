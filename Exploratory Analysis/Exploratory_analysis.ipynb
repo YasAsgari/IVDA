{
 "cells": [
  {
   "cell_type": "code",
   "execution_count": 2,
   "metadata": {},
   "outputs": [],
   "source": [
    "import numpy as np\n",
    "import pandas as pd\n",
    "from matplotlib import pyplot as plt\n",
    "import re\n",
    "import plotly.express as px\n",
    "import ast\n",
    "from geopy.geocoders import Nominatim\n",
    "\n"
   ]
  },
  {
   "cell_type": "code",
   "execution_count": 3,
   "metadata": {},
   "outputs": [],
   "source": [
    "df=pd.read_csv('items.csv')"
   ]
  },
  {
   "cell_type": "code",
   "execution_count": 4,
   "metadata": {},
   "outputs": [
    {
     "data": {
      "text/plain": [
       "Index(['series', 'identifier_swisscollections', 'subject_form',\n",
       "       'library_call_number', 'resource_type',\n",
       "       'date_of_publication_or_production_standardised', 'place_standardised',\n",
       "       'physical_description', 'language', 'title'],\n",
       "      dtype='object')"
      ]
     },
     "execution_count": 4,
     "metadata": {},
     "output_type": "execute_result"
    }
   ],
   "source": [
    "df.columns"
   ]
  },
  {
   "cell_type": "code",
   "execution_count": 5,
   "metadata": {},
   "outputs": [
    {
     "data": {
      "text/html": [
       "<div>\n",
       "<style scoped>\n",
       "    .dataframe tbody tr th:only-of-type {\n",
       "        vertical-align: middle;\n",
       "    }\n",
       "\n",
       "    .dataframe tbody tr th {\n",
       "        vertical-align: top;\n",
       "    }\n",
       "\n",
       "    .dataframe thead th {\n",
       "        text-align: right;\n",
       "    }\n",
       "</style>\n",
       "<table border=\"1\" class=\"dataframe\">\n",
       "  <thead>\n",
       "    <tr style=\"text-align: right;\">\n",
       "      <th></th>\n",
       "      <th>series</th>\n",
       "      <th>identifier_swisscollections</th>\n",
       "      <th>subject_form</th>\n",
       "      <th>library_call_number</th>\n",
       "      <th>resource_type</th>\n",
       "      <th>date_of_publication_or_production_standardised</th>\n",
       "      <th>place_standardised</th>\n",
       "      <th>physical_description</th>\n",
       "      <th>language</th>\n",
       "      <th>title</th>\n",
       "    </tr>\n",
       "  </thead>\n",
       "  <tbody>\n",
       "    <tr>\n",
       "      <th>0</th>\n",
       "      <td>['Autographensammlung Karl Geigy-Hagenbach. I,...</td>\n",
       "      <td>991170522224305501</td>\n",
       "      <td>['Autograf', 'Handschrift', 'Briefsammlung']</td>\n",
       "      <td>Basel, UB, UBH Autogr Geigy-Hagenbach 1127</td>\n",
       "      <td>['Brief', 'Autograph', 'Archivmaterial / Archi...</td>\n",
       "      <td>18060815</td>\n",
       "      <td>{'name': 'Kopenhagen', 'identifier': ['(DE-588...</td>\n",
       "      <td>['2 Bl. (2 S. beschrieben) ; 19,5 x 12,5 cm']</td>\n",
       "      <td>['Deutsch']</td>\n",
       "      <td>Brief an Breitkopf und Härtel</td>\n",
       "    </tr>\n",
       "    <tr>\n",
       "      <th>1</th>\n",
       "      <td>['Autographensammlung Karl Geigy-Hagenbach. I,...</td>\n",
       "      <td>991170522224905501</td>\n",
       "      <td>['Autograf', 'Handschrift', 'Briefsammlung']</td>\n",
       "      <td>Autographensammlung Geigy-Hagenbach, -</td>\n",
       "      <td>['Brief', 'Autograph', 'Archivmaterial / Archi...</td>\n",
       "      <td>17940115</td>\n",
       "      <td>{'name': 'Zürich', 'identifier': ['(DE-588)406...</td>\n",
       "      <td>['2 Bl. (4 S. beschrieben) ; 22,5 x 19 cm']</td>\n",
       "      <td>['Deutsch']</td>\n",
       "      <td>Brief an [Gottlieb Hufeland]</td>\n",
       "    </tr>\n",
       "    <tr>\n",
       "      <th>2</th>\n",
       "      <td>['Autographensammlung Karl Geigy-Hagenbach. I,...</td>\n",
       "      <td>991170522225205501</td>\n",
       "      <td>['Autograf', 'Handschrift', 'Briefsammlung']</td>\n",
       "      <td>Basel, UB, UBH Autogr Geigy-Hagenbach 1121</td>\n",
       "      <td>['Brief', 'Autograph', 'Archivmaterial / Archi...</td>\n",
       "      <td>18070822</td>\n",
       "      <td>{'name': 'Nürnberg', 'identifier': ['(DE-588)4...</td>\n",
       "      <td>['1 Bl. (2 S. beschrieben) ; 18 x 12 cm']</td>\n",
       "      <td>['Deutsch']</td>\n",
       "      <td>Brief an Hofrat</td>\n",
       "    </tr>\n",
       "    <tr>\n",
       "      <th>3</th>\n",
       "      <td>['Autographensammlung Karl Geigy-Hagenbach. I,...</td>\n",
       "      <td>991170522227205501</td>\n",
       "      <td>['Autograf', 'Handschrift', 'Briefsammlung']</td>\n",
       "      <td>Autographensammlung Geigy-Hagenbach, -</td>\n",
       "      <td>['Brief', 'Autograph', 'Archivmaterial / Archi...</td>\n",
       "      <td>17960601</td>\n",
       "      <td>{'name': 'Mannheim', 'identifier': ['(DE-588)4...</td>\n",
       "      <td>['2 Bl. (1 S. beschrieben) ; 18,5 x 11,5 cm']</td>\n",
       "      <td>['Deutsch']</td>\n",
       "      <td>Brief an Unbekannt</td>\n",
       "    </tr>\n",
       "    <tr>\n",
       "      <th>4</th>\n",
       "      <td>['Autographensammlung Karl Geigy-Hagenbach. I,...</td>\n",
       "      <td>991170522227605501</td>\n",
       "      <td>['Autograf', 'Handschrift', 'Briefsammlung']</td>\n",
       "      <td>Autographensammlung Geigy-Hagenbach, -</td>\n",
       "      <td>['Brief', 'Autograph', 'Archivmaterial / Archi...</td>\n",
       "      <td>18061213</td>\n",
       "      <td>{'name': 'Berlin', 'identifier': ['(DE-588)400...</td>\n",
       "      <td>['1 Bl. (2 S. beschrieben) ; 23 x 19 cm']</td>\n",
       "      <td>['Deutsch']</td>\n",
       "      <td>Brief an [Christian Gottlob] Voigt</td>\n",
       "    </tr>\n",
       "  </tbody>\n",
       "</table>\n",
       "</div>"
      ],
      "text/plain": [
       "                                              series  \\\n",
       "0  ['Autographensammlung Karl Geigy-Hagenbach. I,...   \n",
       "1  ['Autographensammlung Karl Geigy-Hagenbach. I,...   \n",
       "2  ['Autographensammlung Karl Geigy-Hagenbach. I,...   \n",
       "3  ['Autographensammlung Karl Geigy-Hagenbach. I,...   \n",
       "4  ['Autographensammlung Karl Geigy-Hagenbach. I,...   \n",
       "\n",
       "   identifier_swisscollections                                  subject_form  \\\n",
       "0           991170522224305501  ['Autograf', 'Handschrift', 'Briefsammlung']   \n",
       "1           991170522224905501  ['Autograf', 'Handschrift', 'Briefsammlung']   \n",
       "2           991170522225205501  ['Autograf', 'Handschrift', 'Briefsammlung']   \n",
       "3           991170522227205501  ['Autograf', 'Handschrift', 'Briefsammlung']   \n",
       "4           991170522227605501  ['Autograf', 'Handschrift', 'Briefsammlung']   \n",
       "\n",
       "                          library_call_number  \\\n",
       "0  Basel, UB, UBH Autogr Geigy-Hagenbach 1127   \n",
       "1      Autographensammlung Geigy-Hagenbach, -   \n",
       "2  Basel, UB, UBH Autogr Geigy-Hagenbach 1121   \n",
       "3      Autographensammlung Geigy-Hagenbach, -   \n",
       "4      Autographensammlung Geigy-Hagenbach, -   \n",
       "\n",
       "                                       resource_type  \\\n",
       "0  ['Brief', 'Autograph', 'Archivmaterial / Archi...   \n",
       "1  ['Brief', 'Autograph', 'Archivmaterial / Archi...   \n",
       "2  ['Brief', 'Autograph', 'Archivmaterial / Archi...   \n",
       "3  ['Brief', 'Autograph', 'Archivmaterial / Archi...   \n",
       "4  ['Brief', 'Autograph', 'Archivmaterial / Archi...   \n",
       "\n",
       "  date_of_publication_or_production_standardised  \\\n",
       "0                                       18060815   \n",
       "1                                       17940115   \n",
       "2                                       18070822   \n",
       "3                                       17960601   \n",
       "4                                       18061213   \n",
       "\n",
       "                                  place_standardised  \\\n",
       "0  {'name': 'Kopenhagen', 'identifier': ['(DE-588...   \n",
       "1  {'name': 'Zürich', 'identifier': ['(DE-588)406...   \n",
       "2  {'name': 'Nürnberg', 'identifier': ['(DE-588)4...   \n",
       "3  {'name': 'Mannheim', 'identifier': ['(DE-588)4...   \n",
       "4  {'name': 'Berlin', 'identifier': ['(DE-588)400...   \n",
       "\n",
       "                            physical_description     language  \\\n",
       "0  ['2 Bl. (2 S. beschrieben) ; 19,5 x 12,5 cm']  ['Deutsch']   \n",
       "1    ['2 Bl. (4 S. beschrieben) ; 22,5 x 19 cm']  ['Deutsch']   \n",
       "2      ['1 Bl. (2 S. beschrieben) ; 18 x 12 cm']  ['Deutsch']   \n",
       "3  ['2 Bl. (1 S. beschrieben) ; 18,5 x 11,5 cm']  ['Deutsch']   \n",
       "4      ['1 Bl. (2 S. beschrieben) ; 23 x 19 cm']  ['Deutsch']   \n",
       "\n",
       "                                title  \n",
       "0       Brief an Breitkopf und Härtel  \n",
       "1        Brief an [Gottlieb Hufeland]  \n",
       "2                     Brief an Hofrat  \n",
       "3                  Brief an Unbekannt  \n",
       "4  Brief an [Christian Gottlob] Voigt  "
      ]
     },
     "execution_count": 5,
     "metadata": {},
     "output_type": "execute_result"
    }
   ],
   "source": [
    "df.head()"
   ]
  },
  {
   "cell_type": "code",
   "execution_count": 6,
   "metadata": {},
   "outputs": [
    {
     "name": "stderr",
     "output_type": "stream",
     "text": [
      "C:\\Users\\Yasaman\\AppData\\Local\\Temp\\ipykernel_9144\\2702049369.py:1: UserWarning: Pandas doesn't allow columns to be created via a new attribute name - see https://pandas.pydata.org/pandas-docs/stable/indexing.html#attribute-access\n",
      "  df.found_data=pd.to_datetime(df.date_of_publication_or_production_standardised, errors='coerce')\n"
     ]
    }
   ],
   "source": [
    "df.found_data=pd.to_datetime(df.date_of_publication_or_production_standardised, errors='coerce')"
   ]
  },
  {
   "cell_type": "code",
   "execution_count": 7,
   "metadata": {},
   "outputs": [],
   "source": [
    "def find_date_of_publication(x):\n",
    "    try:\n",
    "        numbers_only = re.findall(r'\\d+', '711, ca zwischen 1930-1972')\n",
    "\n",
    "        return int([x for x in numbers_only if len(x) > 3][0][:4])\n",
    "    except:\n",
    "        print(x)\n",
    "        return None\n"
   ]
  },
  {
   "cell_type": "code",
   "execution_count": 8,
   "metadata": {},
   "outputs": [],
   "source": [
    "df.found_data=df.date_of_publication_or_production_standardised.apply(find_date_of_publication)"
   ]
  },
  {
   "cell_type": "code",
   "execution_count": 9,
   "metadata": {},
   "outputs": [],
   "source": [
    "df['language'] = df['language'].str.replace(\"[\\[\\]']\", '', regex=True)  # Remove brackets and quotes\n",
    "df['language'] = df['language'].str.split(',\\s*')  # Split by commas with optional whitespace\n"
   ]
  },
  {
   "cell_type": "code",
   "execution_count": 10,
   "metadata": {},
   "outputs": [],
   "source": [
    "mapping_language={'English':'Englisch','England':'Englisch','Deusch':'Deutsch','Detusch':'Deutsch'  ,  \"Franzsösisch\": \"Französisch\",\n",
    "    \"Französich\": \"Französisch\",\n",
    "    \"Franösisch\": \"Französisch\",'French':'Französisch','German':'Deutsch','Lateinisch':'Latein','Titel: Deutsch':'Deutsch','Turkisch':'Türkisch','Urdu ?':'Urdu','deutsch':'Deutsch','französisch':'Französisch','Paris':'Französisch','Ger':'Deutsch','Russian':'Russisch','Handgeschriebenes Gedicht Schweizerdeutsch':'Schweizerdeutsch','Einleitung Deutsch':'Deutsch','Haupttext Deutsch ; Unterschrift Aleksanderʺ In Alter Russischer Schrift':'Deutsch','Dialoge Schweizerdeutsch':'Schweizerdeutsch','Deutschsprachiger Entwurf':'Deutsch','Italienische':'Italienisch','Nebst Latein':'Latein'}"
   ]
  },
  {
   "cell_type": "code",
   "execution_count": 11,
   "metadata": {},
   "outputs": [],
   "source": [
    "# Function to split on \"und\" and replace with a list of words\n",
    "def split_on_und(values):\n",
    "    new_values=[]\n",
    "    for value in values:\n",
    "        \n",
    "        value = ''.join([i for i in value if not i.isdigit()])\n",
    "    # Remove extra spaces\n",
    "        value = ' '.join(value.split())\n",
    "        if 'Texte' in value:\n",
    "            value=value.replace('Texte','')\n",
    "        if 'Text' in value:\n",
    "            value=value.replace('Text','')\n",
    "        if ' und ' in value:\n",
    "            new_list=value.split(' und ')\n",
    "            for v in new_list:\n",
    "                v=v.title()\n",
    "                if v in mapping_language:\n",
    "                 \n",
    "                    new_values.append(mapping_language[v].title())\n",
    "                else:\n",
    "       \n",
    "                    new_values.append(v.title())\n",
    "        else:\n",
    "            if value.title() in mapping_language:\n",
    "                \n",
    "                new_values+=[mapping_language[value.title()]]\n",
    "            else:\n",
    "                new_values+=[value.title()]\n",
    "    return new_values"
   ]
  },
  {
   "cell_type": "code",
   "execution_count": 12,
   "metadata": {},
   "outputs": [
    {
     "name": "stderr",
     "output_type": "stream",
     "text": [
      "C:\\Users\\Yasaman\\AppData\\Local\\Temp\\ipykernel_9144\\3513459547.py:1: UserWarning: Pandas doesn't allow columns to be created via a new attribute name - see https://pandas.pydata.org/pandas-docs/stable/indexing.html#attribute-access\n",
      "  df.corrected_lang=df.language.apply(split_on_und)\n"
     ]
    }
   ],
   "source": [
    "df.corrected_lang=df.language.apply(split_on_und)"
   ]
  },
  {
   "cell_type": "code",
   "execution_count": 13,
   "metadata": {},
   "outputs": [
    {
     "name": "stdout",
     "output_type": "stream",
     "text": [
      "Schwedisch\n",
      "Schweizerdeutsch\n",
      "Schweizerdeutsch (Alte Häädler Puuresproch)\n",
      "Spanisch\n",
      "Tschechisch\n",
      "Türkisch\n",
      "Ungarisch\n",
      "Urdu\n",
      "Usbekisch\n",
      "Vinzel\n"
     ]
    }
   ],
   "source": [
    "\n",
    "# Step 2: Flatten the list of lists and find unique values\n",
    "unique_languages = set([lang.strip() for sublist in df.corrected_lang for lang in sublist])\n",
    "\n",
    "# Display the result as a sorted list\n",
    "unique_languages = sorted(unique_languages)\n",
    "for  x in unique_languages[40:]:\n",
    "    print(x)"
   ]
  },
  {
   "cell_type": "code",
   "execution_count": 14,
   "metadata": {},
   "outputs": [],
   "source": [
    "df['corrected_subject_form'] = df['subject_form'].str.replace(\"[\\[\\]']\", '', regex=True)  # Remove brackets and quotes\n",
    "df['corrected_subject_form'] = df['corrected_subject_form'].str.split(',\\s*')  # Split by commas with optional whitespace"
   ]
  },
  {
   "cell_type": "code",
   "execution_count": 15,
   "metadata": {},
   "outputs": [
    {
     "name": "stdout",
     "output_type": "stream",
     "text": [
      "Stammbuch\n",
      "Stimme\n",
      "Tagebuch\n",
      "Technische Zeichnung\n",
      "Theaterstück\n",
      "Vorlesung\n",
      "Zeichnung\n",
      "Zeitschrift\n",
      "Zeitung\n"
     ]
    }
   ],
   "source": [
    "\n",
    "# Step 2: Flatten the list of lists and find unique values\n",
    "unique_subjects = set([subj.strip() for sublist in df.corrected_subject_form for subj in sublist])\n",
    "\n",
    "# Display the result as a sorted list\n",
    "unique_subjects = sorted(unique_subjects)\n",
    "for  x in unique_subjects[40:60]:\n",
    "    print(x)"
   ]
  },
  {
   "cell_type": "code",
   "execution_count": 16,
   "metadata": {},
   "outputs": [],
   "source": [
    "def get_city(x):\n",
    "    if x:\n",
    "        return x.split(',')[0]\n",
    "    return None"
   ]
  },
  {
   "cell_type": "code",
   "execution_count": 17,
   "metadata": {},
   "outputs": [
    {
     "name": "stderr",
     "output_type": "stream",
     "text": [
      "C:\\Users\\Yasaman\\AppData\\Local\\Temp\\ipykernel_9144\\234623331.py:1: UserWarning: Pandas doesn't allow columns to be created via a new attribute name - see https://pandas.pydata.org/pandas-docs/stable/indexing.html#attribute-access\n",
      "  df.library_city=df.library_call_number.apply(get_city)\n"
     ]
    }
   ],
   "source": [
    "df.library_city=df.library_call_number.apply(get_city)"
   ]
  },
  {
   "cell_type": "code",
   "execution_count": 18,
   "metadata": {},
   "outputs": [],
   "source": [
    "location_maps={'Autographensammlung Geigy-Hagenbach':'Basel','Bernoulli-Briefinventar':'Basel'}"
   ]
  },
  {
   "cell_type": "code",
   "execution_count": 19,
   "metadata": {},
   "outputs": [],
   "source": [
    "df['library_city']=df.library_city.apply(lambda x: location_maps[x] if x in location_maps else x)"
   ]
  },
  {
   "cell_type": "code",
   "execution_count": 20,
   "metadata": {},
   "outputs": [],
   "source": [
    "latitudes = {\n",
    "    'Basel': 47.5596,\n",
    "    'Solothurn': 47.2088,\n",
    "    'Trogen': 47.4084,\n",
    "    'St. Gallen': 47.4239,\n",
    "    'Zofingen': 47.2889,\n",
    "    'Bern': 46.9481,\n",
    "    'Luzern': 47.0502,\n",
    "    'Aarau': 47.3925\n",
    "}\n",
    "\n",
    "longitudes = {\n",
    "    'Basel': 7.5886,\n",
    "    'Solothurn': 7.5323,\n",
    "    'Trogen': 9.4622,\n",
    "    'St. Gallen': 9.3748,\n",
    "    'Zofingen': 7.9448,\n",
    "    'Bern': 7.4474,\n",
    "    'Luzern': 8.3093,\n",
    "    'Aarau': 8.0443\n",
    "}\n",
    "\n",
    "\n",
    "\n",
    "df['location_library_latitude']=df.library_city.map(latitudes)\n",
    "df['location_library_longitude']=df.library_city.map(longitudes)"
   ]
  },
  {
   "cell_type": "code",
   "execution_count": 21,
   "metadata": {},
   "outputs": [],
   "source": [
    "city_plot=df.groupby(['library_city','location_library_latitude','location_library_longitude'])['series'].count().reset_index().rename(columns={'series':'count'})"
   ]
  },
  {
   "cell_type": "code",
   "execution_count": 22,
   "metadata": {},
   "outputs": [],
   "source": [
    "city_plot['squared_root']=np.sqrt(city_plot['count'])"
   ]
  },
  {
   "cell_type": "code",
   "execution_count": 23,
   "metadata": {},
   "outputs": [
    {
     "data": {
      "application/vnd.plotly.v1+json": {
       "config": {
        "plotlyServerURL": "https://plot.ly"
       },
       "data": [
        {
         "customdata": [
          [
           66,
           8.12403840463596
          ],
          [
           71743,
           267.8488379664918
          ],
          [
           78,
           8.831760866327848
          ],
          [
           725,
           26.92582403567252
          ],
          [
           4149,
           64.41273166075166
          ],
          [
           11016,
           104.95713410721541
          ],
          [
           11165,
           105.66456359631643
          ],
          [
           19,
           4.358898943540674
          ]
         ],
         "hovertemplate": "<b>%{hovertext}</b><br><br>location_library_latitude=%{lat}<br>location_library_longitude=%{lon}<br>count=%{customdata[0]}<extra></extra>",
         "hovertext": [
          "Aarau",
          "Basel",
          "Bern",
          "Luzern",
          "Solothurn",
          "St. Gallen",
          "Trogen",
          "Zofingen"
         ],
         "lat": [
          47.3925,
          47.5596,
          46.9481,
          47.0502,
          47.2088,
          47.4239,
          47.4084,
          47.2889
         ],
         "legendgroup": "",
         "lon": [
          8.0443,
          7.5886,
          7.4474,
          8.3093,
          7.5323,
          9.3748,
          9.4622,
          7.9448
         ],
         "marker": {
          "color": "#636efa",
          "size": [
           8.12403840463596,
           267.8488379664918,
           8.831760866327848,
           26.92582403567252,
           64.41273166075166,
           104.95713410721541,
           105.66456359631643,
           4.358898943540674
          ],
          "sizemode": "area",
          "sizeref": 0.10713953518659673
         },
         "mode": "markers",
         "name": "",
         "showlegend": false,
         "subplot": "mapbox",
         "type": "scattermapbox"
        }
       ],
       "layout": {
        "legend": {
         "itemsizing": "constant",
         "tracegroupgap": 0
        },
        "mapbox": {
         "center": {
          "lat": 46.85,
          "lon": 8.2
         },
         "domain": {
          "x": [
           0,
           1
          ],
          "y": [
           0,
           1
          ]
         },
         "style": "open-street-map",
         "zoom": 6
        },
        "template": {
         "data": {
          "bar": [
           {
            "error_x": {
             "color": "#2a3f5f"
            },
            "error_y": {
             "color": "#2a3f5f"
            },
            "marker": {
             "line": {
              "color": "#E5ECF6",
              "width": 0.5
             },
             "pattern": {
              "fillmode": "overlay",
              "size": 10,
              "solidity": 0.2
             }
            },
            "type": "bar"
           }
          ],
          "barpolar": [
           {
            "marker": {
             "line": {
              "color": "#E5ECF6",
              "width": 0.5
             },
             "pattern": {
              "fillmode": "overlay",
              "size": 10,
              "solidity": 0.2
             }
            },
            "type": "barpolar"
           }
          ],
          "carpet": [
           {
            "aaxis": {
             "endlinecolor": "#2a3f5f",
             "gridcolor": "white",
             "linecolor": "white",
             "minorgridcolor": "white",
             "startlinecolor": "#2a3f5f"
            },
            "baxis": {
             "endlinecolor": "#2a3f5f",
             "gridcolor": "white",
             "linecolor": "white",
             "minorgridcolor": "white",
             "startlinecolor": "#2a3f5f"
            },
            "type": "carpet"
           }
          ],
          "choropleth": [
           {
            "colorbar": {
             "outlinewidth": 0,
             "ticks": ""
            },
            "type": "choropleth"
           }
          ],
          "contour": [
           {
            "colorbar": {
             "outlinewidth": 0,
             "ticks": ""
            },
            "colorscale": [
             [
              0,
              "#0d0887"
             ],
             [
              0.1111111111111111,
              "#46039f"
             ],
             [
              0.2222222222222222,
              "#7201a8"
             ],
             [
              0.3333333333333333,
              "#9c179e"
             ],
             [
              0.4444444444444444,
              "#bd3786"
             ],
             [
              0.5555555555555556,
              "#d8576b"
             ],
             [
              0.6666666666666666,
              "#ed7953"
             ],
             [
              0.7777777777777778,
              "#fb9f3a"
             ],
             [
              0.8888888888888888,
              "#fdca26"
             ],
             [
              1,
              "#f0f921"
             ]
            ],
            "type": "contour"
           }
          ],
          "contourcarpet": [
           {
            "colorbar": {
             "outlinewidth": 0,
             "ticks": ""
            },
            "type": "contourcarpet"
           }
          ],
          "heatmap": [
           {
            "colorbar": {
             "outlinewidth": 0,
             "ticks": ""
            },
            "colorscale": [
             [
              0,
              "#0d0887"
             ],
             [
              0.1111111111111111,
              "#46039f"
             ],
             [
              0.2222222222222222,
              "#7201a8"
             ],
             [
              0.3333333333333333,
              "#9c179e"
             ],
             [
              0.4444444444444444,
              "#bd3786"
             ],
             [
              0.5555555555555556,
              "#d8576b"
             ],
             [
              0.6666666666666666,
              "#ed7953"
             ],
             [
              0.7777777777777778,
              "#fb9f3a"
             ],
             [
              0.8888888888888888,
              "#fdca26"
             ],
             [
              1,
              "#f0f921"
             ]
            ],
            "type": "heatmap"
           }
          ],
          "heatmapgl": [
           {
            "colorbar": {
             "outlinewidth": 0,
             "ticks": ""
            },
            "colorscale": [
             [
              0,
              "#0d0887"
             ],
             [
              0.1111111111111111,
              "#46039f"
             ],
             [
              0.2222222222222222,
              "#7201a8"
             ],
             [
              0.3333333333333333,
              "#9c179e"
             ],
             [
              0.4444444444444444,
              "#bd3786"
             ],
             [
              0.5555555555555556,
              "#d8576b"
             ],
             [
              0.6666666666666666,
              "#ed7953"
             ],
             [
              0.7777777777777778,
              "#fb9f3a"
             ],
             [
              0.8888888888888888,
              "#fdca26"
             ],
             [
              1,
              "#f0f921"
             ]
            ],
            "type": "heatmapgl"
           }
          ],
          "histogram": [
           {
            "marker": {
             "pattern": {
              "fillmode": "overlay",
              "size": 10,
              "solidity": 0.2
             }
            },
            "type": "histogram"
           }
          ],
          "histogram2d": [
           {
            "colorbar": {
             "outlinewidth": 0,
             "ticks": ""
            },
            "colorscale": [
             [
              0,
              "#0d0887"
             ],
             [
              0.1111111111111111,
              "#46039f"
             ],
             [
              0.2222222222222222,
              "#7201a8"
             ],
             [
              0.3333333333333333,
              "#9c179e"
             ],
             [
              0.4444444444444444,
              "#bd3786"
             ],
             [
              0.5555555555555556,
              "#d8576b"
             ],
             [
              0.6666666666666666,
              "#ed7953"
             ],
             [
              0.7777777777777778,
              "#fb9f3a"
             ],
             [
              0.8888888888888888,
              "#fdca26"
             ],
             [
              1,
              "#f0f921"
             ]
            ],
            "type": "histogram2d"
           }
          ],
          "histogram2dcontour": [
           {
            "colorbar": {
             "outlinewidth": 0,
             "ticks": ""
            },
            "colorscale": [
             [
              0,
              "#0d0887"
             ],
             [
              0.1111111111111111,
              "#46039f"
             ],
             [
              0.2222222222222222,
              "#7201a8"
             ],
             [
              0.3333333333333333,
              "#9c179e"
             ],
             [
              0.4444444444444444,
              "#bd3786"
             ],
             [
              0.5555555555555556,
              "#d8576b"
             ],
             [
              0.6666666666666666,
              "#ed7953"
             ],
             [
              0.7777777777777778,
              "#fb9f3a"
             ],
             [
              0.8888888888888888,
              "#fdca26"
             ],
             [
              1,
              "#f0f921"
             ]
            ],
            "type": "histogram2dcontour"
           }
          ],
          "mesh3d": [
           {
            "colorbar": {
             "outlinewidth": 0,
             "ticks": ""
            },
            "type": "mesh3d"
           }
          ],
          "parcoords": [
           {
            "line": {
             "colorbar": {
              "outlinewidth": 0,
              "ticks": ""
             }
            },
            "type": "parcoords"
           }
          ],
          "pie": [
           {
            "automargin": true,
            "type": "pie"
           }
          ],
          "scatter": [
           {
            "fillpattern": {
             "fillmode": "overlay",
             "size": 10,
             "solidity": 0.2
            },
            "type": "scatter"
           }
          ],
          "scatter3d": [
           {
            "line": {
             "colorbar": {
              "outlinewidth": 0,
              "ticks": ""
             }
            },
            "marker": {
             "colorbar": {
              "outlinewidth": 0,
              "ticks": ""
             }
            },
            "type": "scatter3d"
           }
          ],
          "scattercarpet": [
           {
            "marker": {
             "colorbar": {
              "outlinewidth": 0,
              "ticks": ""
             }
            },
            "type": "scattercarpet"
           }
          ],
          "scattergeo": [
           {
            "marker": {
             "colorbar": {
              "outlinewidth": 0,
              "ticks": ""
             }
            },
            "type": "scattergeo"
           }
          ],
          "scattergl": [
           {
            "marker": {
             "colorbar": {
              "outlinewidth": 0,
              "ticks": ""
             }
            },
            "type": "scattergl"
           }
          ],
          "scattermapbox": [
           {
            "marker": {
             "colorbar": {
              "outlinewidth": 0,
              "ticks": ""
             }
            },
            "type": "scattermapbox"
           }
          ],
          "scatterpolar": [
           {
            "marker": {
             "colorbar": {
              "outlinewidth": 0,
              "ticks": ""
             }
            },
            "type": "scatterpolar"
           }
          ],
          "scatterpolargl": [
           {
            "marker": {
             "colorbar": {
              "outlinewidth": 0,
              "ticks": ""
             }
            },
            "type": "scatterpolargl"
           }
          ],
          "scatterternary": [
           {
            "marker": {
             "colorbar": {
              "outlinewidth": 0,
              "ticks": ""
             }
            },
            "type": "scatterternary"
           }
          ],
          "surface": [
           {
            "colorbar": {
             "outlinewidth": 0,
             "ticks": ""
            },
            "colorscale": [
             [
              0,
              "#0d0887"
             ],
             [
              0.1111111111111111,
              "#46039f"
             ],
             [
              0.2222222222222222,
              "#7201a8"
             ],
             [
              0.3333333333333333,
              "#9c179e"
             ],
             [
              0.4444444444444444,
              "#bd3786"
             ],
             [
              0.5555555555555556,
              "#d8576b"
             ],
             [
              0.6666666666666666,
              "#ed7953"
             ],
             [
              0.7777777777777778,
              "#fb9f3a"
             ],
             [
              0.8888888888888888,
              "#fdca26"
             ],
             [
              1,
              "#f0f921"
             ]
            ],
            "type": "surface"
           }
          ],
          "table": [
           {
            "cells": {
             "fill": {
              "color": "#EBF0F8"
             },
             "line": {
              "color": "white"
             }
            },
            "header": {
             "fill": {
              "color": "#C8D4E3"
             },
             "line": {
              "color": "white"
             }
            },
            "type": "table"
           }
          ]
         },
         "layout": {
          "annotationdefaults": {
           "arrowcolor": "#2a3f5f",
           "arrowhead": 0,
           "arrowwidth": 1
          },
          "autotypenumbers": "strict",
          "coloraxis": {
           "colorbar": {
            "outlinewidth": 0,
            "ticks": ""
           }
          },
          "colorscale": {
           "diverging": [
            [
             0,
             "#8e0152"
            ],
            [
             0.1,
             "#c51b7d"
            ],
            [
             0.2,
             "#de77ae"
            ],
            [
             0.3,
             "#f1b6da"
            ],
            [
             0.4,
             "#fde0ef"
            ],
            [
             0.5,
             "#f7f7f7"
            ],
            [
             0.6,
             "#e6f5d0"
            ],
            [
             0.7,
             "#b8e186"
            ],
            [
             0.8,
             "#7fbc41"
            ],
            [
             0.9,
             "#4d9221"
            ],
            [
             1,
             "#276419"
            ]
           ],
           "sequential": [
            [
             0,
             "#0d0887"
            ],
            [
             0.1111111111111111,
             "#46039f"
            ],
            [
             0.2222222222222222,
             "#7201a8"
            ],
            [
             0.3333333333333333,
             "#9c179e"
            ],
            [
             0.4444444444444444,
             "#bd3786"
            ],
            [
             0.5555555555555556,
             "#d8576b"
            ],
            [
             0.6666666666666666,
             "#ed7953"
            ],
            [
             0.7777777777777778,
             "#fb9f3a"
            ],
            [
             0.8888888888888888,
             "#fdca26"
            ],
            [
             1,
             "#f0f921"
            ]
           ],
           "sequentialminus": [
            [
             0,
             "#0d0887"
            ],
            [
             0.1111111111111111,
             "#46039f"
            ],
            [
             0.2222222222222222,
             "#7201a8"
            ],
            [
             0.3333333333333333,
             "#9c179e"
            ],
            [
             0.4444444444444444,
             "#bd3786"
            ],
            [
             0.5555555555555556,
             "#d8576b"
            ],
            [
             0.6666666666666666,
             "#ed7953"
            ],
            [
             0.7777777777777778,
             "#fb9f3a"
            ],
            [
             0.8888888888888888,
             "#fdca26"
            ],
            [
             1,
             "#f0f921"
            ]
           ]
          },
          "colorway": [
           "#636efa",
           "#EF553B",
           "#00cc96",
           "#ab63fa",
           "#FFA15A",
           "#19d3f3",
           "#FF6692",
           "#B6E880",
           "#FF97FF",
           "#FECB52"
          ],
          "font": {
           "color": "#2a3f5f"
          },
          "geo": {
           "bgcolor": "white",
           "lakecolor": "white",
           "landcolor": "#E5ECF6",
           "showlakes": true,
           "showland": true,
           "subunitcolor": "white"
          },
          "hoverlabel": {
           "align": "left"
          },
          "hovermode": "closest",
          "mapbox": {
           "style": "light"
          },
          "paper_bgcolor": "white",
          "plot_bgcolor": "#E5ECF6",
          "polar": {
           "angularaxis": {
            "gridcolor": "white",
            "linecolor": "white",
            "ticks": ""
           },
           "bgcolor": "#E5ECF6",
           "radialaxis": {
            "gridcolor": "white",
            "linecolor": "white",
            "ticks": ""
           }
          },
          "scene": {
           "xaxis": {
            "backgroundcolor": "#E5ECF6",
            "gridcolor": "white",
            "gridwidth": 2,
            "linecolor": "white",
            "showbackground": true,
            "ticks": "",
            "zerolinecolor": "white"
           },
           "yaxis": {
            "backgroundcolor": "#E5ECF6",
            "gridcolor": "white",
            "gridwidth": 2,
            "linecolor": "white",
            "showbackground": true,
            "ticks": "",
            "zerolinecolor": "white"
           },
           "zaxis": {
            "backgroundcolor": "#E5ECF6",
            "gridcolor": "white",
            "gridwidth": 2,
            "linecolor": "white",
            "showbackground": true,
            "ticks": "",
            "zerolinecolor": "white"
           }
          },
          "shapedefaults": {
           "line": {
            "color": "#2a3f5f"
           }
          },
          "ternary": {
           "aaxis": {
            "gridcolor": "white",
            "linecolor": "white",
            "ticks": ""
           },
           "baxis": {
            "gridcolor": "white",
            "linecolor": "white",
            "ticks": ""
           },
           "bgcolor": "#E5ECF6",
           "caxis": {
            "gridcolor": "white",
            "linecolor": "white",
            "ticks": ""
           }
          },
          "title": {
           "x": 0.05
          },
          "xaxis": {
           "automargin": true,
           "gridcolor": "white",
           "linecolor": "white",
           "ticks": "",
           "title": {
            "standoff": 15
           },
           "zerolinecolor": "white",
           "zerolinewidth": 2
          },
          "yaxis": {
           "automargin": true,
           "gridcolor": "white",
           "linecolor": "white",
           "ticks": "",
           "title": {
            "standoff": 15
           },
           "zerolinecolor": "white",
           "zerolinewidth": 2
          }
         }
        },
        "title": {
         "text": "Records distribution by Library's location"
        }
       }
      }
     },
     "metadata": {},
     "output_type": "display_data"
    }
   ],
   "source": [
    "\n",
    "# Create the map plot with circles sized by 'count'\n",
    "fig = px.scatter_mapbox(\n",
    "    city_plot, \n",
    "    lat=\"location_library_latitude\", \n",
    "    lon=\"location_library_longitude\", \n",
    "    size_max=50, \n",
    "    hover_name=\"library_city\",\n",
    "    size='squared_root',\n",
    "    hover_data={\"count\": True,'squared_root':False},\n",
    "    title=\"Records distribution by Library's location\",\n",
    "    mapbox_style=\"open-street-map\",\n",
    "    zoom=6,\n",
    "    center={\"lat\": 46.85, \"lon\": 8.2}\n",
    ")\n",
    "\n",
    "fig.show()"
   ]
  },
  {
   "cell_type": "code",
   "execution_count": 24,
   "metadata": {},
   "outputs": [],
   "source": [
    "# Convert the 'city_info' column from string to dictionary\n",
    "df['place_standardised'] = df['place_standardised'].apply(ast.literal_eval)\n",
    "\n",
    "# Optionally, extract the 'name' and 'identifier' fields into separate columns\n",
    "df['city_info'] = df['place_standardised'].apply(lambda x: x['name'])\n",
    "#df['identifier'] = df['city_info'].apply(lambda x: x['identifier'])"
   ]
  },
  {
   "cell_type": "code",
   "execution_count": 25,
   "metadata": {},
   "outputs": [],
   "source": [
    "from tqdm import tqdm\n",
    "tqdm.pandas()"
   ]
  },
  {
   "cell_type": "code",
   "execution_count": 28,
   "metadata": {},
   "outputs": [],
   "source": [
    "df_cities=pd.read_csv('worldcities.csv')"
   ]
  },
  {
   "cell_type": "code",
   "execution_count": 34,
   "metadata": {},
   "outputs": [
    {
     "data": {
      "text/html": [
       "<div>\n",
       "<style scoped>\n",
       "    .dataframe tbody tr th:only-of-type {\n",
       "        vertical-align: middle;\n",
       "    }\n",
       "\n",
       "    .dataframe tbody tr th {\n",
       "        vertical-align: top;\n",
       "    }\n",
       "\n",
       "    .dataframe thead th {\n",
       "        text-align: right;\n",
       "    }\n",
       "</style>\n",
       "<table border=\"1\" class=\"dataframe\">\n",
       "  <thead>\n",
       "    <tr style=\"text-align: right;\">\n",
       "      <th></th>\n",
       "      <th>city</th>\n",
       "      <th>city_ascii</th>\n",
       "      <th>lat</th>\n",
       "      <th>lng</th>\n",
       "      <th>country</th>\n",
       "      <th>iso2</th>\n",
       "      <th>iso3</th>\n",
       "      <th>admin_name</th>\n",
       "      <th>capital</th>\n",
       "      <th>population</th>\n",
       "      <th>id</th>\n",
       "    </tr>\n",
       "  </thead>\n",
       "  <tbody>\n",
       "    <tr>\n",
       "      <th>0</th>\n",
       "      <td>Tokyo</td>\n",
       "      <td>Tokyo</td>\n",
       "      <td>35.6897</td>\n",
       "      <td>139.6922</td>\n",
       "      <td>Japan</td>\n",
       "      <td>JP</td>\n",
       "      <td>JPN</td>\n",
       "      <td>Tōkyō</td>\n",
       "      <td>primary</td>\n",
       "      <td>37732000.0</td>\n",
       "      <td>1392685764</td>\n",
       "    </tr>\n",
       "    <tr>\n",
       "      <th>1</th>\n",
       "      <td>Jakarta</td>\n",
       "      <td>Jakarta</td>\n",
       "      <td>-6.1750</td>\n",
       "      <td>106.8275</td>\n",
       "      <td>Indonesia</td>\n",
       "      <td>ID</td>\n",
       "      <td>IDN</td>\n",
       "      <td>Jakarta</td>\n",
       "      <td>primary</td>\n",
       "      <td>33756000.0</td>\n",
       "      <td>1360771077</td>\n",
       "    </tr>\n",
       "    <tr>\n",
       "      <th>2</th>\n",
       "      <td>Delhi</td>\n",
       "      <td>Delhi</td>\n",
       "      <td>28.6100</td>\n",
       "      <td>77.2300</td>\n",
       "      <td>India</td>\n",
       "      <td>IN</td>\n",
       "      <td>IND</td>\n",
       "      <td>Delhi</td>\n",
       "      <td>admin</td>\n",
       "      <td>32226000.0</td>\n",
       "      <td>1356872604</td>\n",
       "    </tr>\n",
       "    <tr>\n",
       "      <th>3</th>\n",
       "      <td>Guangzhou</td>\n",
       "      <td>Guangzhou</td>\n",
       "      <td>23.1300</td>\n",
       "      <td>113.2600</td>\n",
       "      <td>China</td>\n",
       "      <td>CN</td>\n",
       "      <td>CHN</td>\n",
       "      <td>Guangdong</td>\n",
       "      <td>admin</td>\n",
       "      <td>26940000.0</td>\n",
       "      <td>1156237133</td>\n",
       "    </tr>\n",
       "    <tr>\n",
       "      <th>4</th>\n",
       "      <td>Mumbai</td>\n",
       "      <td>Mumbai</td>\n",
       "      <td>19.0761</td>\n",
       "      <td>72.8775</td>\n",
       "      <td>India</td>\n",
       "      <td>IN</td>\n",
       "      <td>IND</td>\n",
       "      <td>Mahārāshtra</td>\n",
       "      <td>admin</td>\n",
       "      <td>24973000.0</td>\n",
       "      <td>1356226629</td>\n",
       "    </tr>\n",
       "    <tr>\n",
       "      <th>...</th>\n",
       "      <td>...</td>\n",
       "      <td>...</td>\n",
       "      <td>...</td>\n",
       "      <td>...</td>\n",
       "      <td>...</td>\n",
       "      <td>...</td>\n",
       "      <td>...</td>\n",
       "      <td>...</td>\n",
       "      <td>...</td>\n",
       "      <td>...</td>\n",
       "      <td>...</td>\n",
       "    </tr>\n",
       "    <tr>\n",
       "      <th>47863</th>\n",
       "      <td>Munha-dong</td>\n",
       "      <td>Munha-dong</td>\n",
       "      <td>39.3813</td>\n",
       "      <td>127.2517</td>\n",
       "      <td>Korea, North</td>\n",
       "      <td>KP</td>\n",
       "      <td>PRK</td>\n",
       "      <td>Kangwŏn</td>\n",
       "      <td>NaN</td>\n",
       "      <td>NaN</td>\n",
       "      <td>1408979215</td>\n",
       "    </tr>\n",
       "    <tr>\n",
       "      <th>47864</th>\n",
       "      <td>Sil-li</td>\n",
       "      <td>Sil-li</td>\n",
       "      <td>39.4880</td>\n",
       "      <td>125.4640</td>\n",
       "      <td>Korea, North</td>\n",
       "      <td>KP</td>\n",
       "      <td>PRK</td>\n",
       "      <td>P’yŏngnam</td>\n",
       "      <td>NaN</td>\n",
       "      <td>NaN</td>\n",
       "      <td>1408767958</td>\n",
       "    </tr>\n",
       "    <tr>\n",
       "      <th>47865</th>\n",
       "      <td>Muan</td>\n",
       "      <td>Muan</td>\n",
       "      <td>34.9897</td>\n",
       "      <td>126.4714</td>\n",
       "      <td>Korea, South</td>\n",
       "      <td>KR</td>\n",
       "      <td>KOR</td>\n",
       "      <td>Jeonnam</td>\n",
       "      <td>admin</td>\n",
       "      <td>NaN</td>\n",
       "      <td>1410001061</td>\n",
       "    </tr>\n",
       "    <tr>\n",
       "      <th>47866</th>\n",
       "      <td>Hongseong</td>\n",
       "      <td>Hongseong</td>\n",
       "      <td>36.6009</td>\n",
       "      <td>126.6650</td>\n",
       "      <td>Korea, South</td>\n",
       "      <td>KR</td>\n",
       "      <td>KOR</td>\n",
       "      <td>Chungnam</td>\n",
       "      <td>admin</td>\n",
       "      <td>NaN</td>\n",
       "      <td>1410822139</td>\n",
       "    </tr>\n",
       "    <tr>\n",
       "      <th>47867</th>\n",
       "      <td>Charlotte Amalie</td>\n",
       "      <td>Charlotte Amalie</td>\n",
       "      <td>18.3420</td>\n",
       "      <td>-64.9331</td>\n",
       "      <td>U.S. Virgin Islands</td>\n",
       "      <td>VI</td>\n",
       "      <td>VIR</td>\n",
       "      <td>Virgin Islands</td>\n",
       "      <td>primary</td>\n",
       "      <td>NaN</td>\n",
       "      <td>1850037473</td>\n",
       "    </tr>\n",
       "  </tbody>\n",
       "</table>\n",
       "<p>47868 rows × 11 columns</p>\n",
       "</div>"
      ],
      "text/plain": [
       "                   city        city_ascii      lat       lng  \\\n",
       "0                 Tokyo             Tokyo  35.6897  139.6922   \n",
       "1               Jakarta           Jakarta  -6.1750  106.8275   \n",
       "2                 Delhi             Delhi  28.6100   77.2300   \n",
       "3             Guangzhou         Guangzhou  23.1300  113.2600   \n",
       "4                Mumbai            Mumbai  19.0761   72.8775   \n",
       "...                 ...               ...      ...       ...   \n",
       "47863        Munha-dong        Munha-dong  39.3813  127.2517   \n",
       "47864            Sil-li            Sil-li  39.4880  125.4640   \n",
       "47865              Muan              Muan  34.9897  126.4714   \n",
       "47866         Hongseong         Hongseong  36.6009  126.6650   \n",
       "47867  Charlotte Amalie  Charlotte Amalie  18.3420  -64.9331   \n",
       "\n",
       "                   country iso2 iso3      admin_name  capital  population  \\\n",
       "0                    Japan   JP  JPN           Tōkyō  primary  37732000.0   \n",
       "1                Indonesia   ID  IDN         Jakarta  primary  33756000.0   \n",
       "2                    India   IN  IND           Delhi    admin  32226000.0   \n",
       "3                    China   CN  CHN       Guangdong    admin  26940000.0   \n",
       "4                    India   IN  IND     Mahārāshtra    admin  24973000.0   \n",
       "...                    ...  ...  ...             ...      ...         ...   \n",
       "47863         Korea, North   KP  PRK         Kangwŏn      NaN         NaN   \n",
       "47864         Korea, North   KP  PRK       P’yŏngnam      NaN         NaN   \n",
       "47865         Korea, South   KR  KOR         Jeonnam    admin         NaN   \n",
       "47866         Korea, South   KR  KOR        Chungnam    admin         NaN   \n",
       "47867  U.S. Virgin Islands   VI  VIR  Virgin Islands  primary         NaN   \n",
       "\n",
       "               id  \n",
       "0      1392685764  \n",
       "1      1360771077  \n",
       "2      1356872604  \n",
       "3      1156237133  \n",
       "4      1356226629  \n",
       "...           ...  \n",
       "47863  1408979215  \n",
       "47864  1408767958  \n",
       "47865  1410001061  \n",
       "47866  1410822139  \n",
       "47867  1850037473  \n",
       "\n",
       "[47868 rows x 11 columns]"
      ]
     },
     "execution_count": 34,
     "metadata": {},
     "output_type": "execute_result"
    }
   ],
   "source": [
    "df_cities"
   ]
  },
  {
   "cell_type": "code",
   "execution_count": 50,
   "metadata": {},
   "outputs": [],
   "source": [
    "df=df.merge(df_cities[['city','lat','lng','country']], right_on='city',left_on='city_info', how='left')"
   ]
  },
  {
   "cell_type": "code",
   "execution_count": 51,
   "metadata": {},
   "outputs": [
    {
     "data": {
      "text/html": [
       "<div>\n",
       "<style scoped>\n",
       "    .dataframe tbody tr th:only-of-type {\n",
       "        vertical-align: middle;\n",
       "    }\n",
       "\n",
       "    .dataframe tbody tr th {\n",
       "        vertical-align: top;\n",
       "    }\n",
       "\n",
       "    .dataframe thead th {\n",
       "        text-align: right;\n",
       "    }\n",
       "</style>\n",
       "<table border=\"1\" class=\"dataframe\">\n",
       "  <thead>\n",
       "    <tr style=\"text-align: right;\">\n",
       "      <th></th>\n",
       "      <th>series</th>\n",
       "      <th>identifier_swisscollections</th>\n",
       "      <th>subject_form</th>\n",
       "      <th>library_call_number</th>\n",
       "      <th>resource_type</th>\n",
       "      <th>date_of_publication_or_production_standardised</th>\n",
       "      <th>place_standardised</th>\n",
       "      <th>physical_description</th>\n",
       "      <th>language</th>\n",
       "      <th>title</th>\n",
       "      <th>corrected_subject_form</th>\n",
       "      <th>library_city</th>\n",
       "      <th>location_library_latitude</th>\n",
       "      <th>location_library_longitude</th>\n",
       "      <th>city_info</th>\n",
       "      <th>city</th>\n",
       "      <th>lat</th>\n",
       "      <th>lng</th>\n",
       "      <th>country</th>\n",
       "    </tr>\n",
       "  </thead>\n",
       "  <tbody>\n",
       "    <tr>\n",
       "      <th>0</th>\n",
       "      <td>['Autographensammlung Karl Geigy-Hagenbach. I,...</td>\n",
       "      <td>991170522224305501</td>\n",
       "      <td>['Autograf', 'Handschrift', 'Briefsammlung']</td>\n",
       "      <td>Basel, UB, UBH Autogr Geigy-Hagenbach 1127</td>\n",
       "      <td>['Brief', 'Autograph', 'Archivmaterial / Archi...</td>\n",
       "      <td>18060815</td>\n",
       "      <td>{'name': 'Kopenhagen', 'identifier': ['(DE-588...</td>\n",
       "      <td>['2 Bl. (2 S. beschrieben) ; 19,5 x 12,5 cm']</td>\n",
       "      <td>[Deutsch]</td>\n",
       "      <td>Brief an Breitkopf und Härtel</td>\n",
       "      <td>[Autograf, Handschrift, Briefsammlung]</td>\n",
       "      <td>Basel</td>\n",
       "      <td>47.5596</td>\n",
       "      <td>7.5886</td>\n",
       "      <td>Kopenhagen</td>\n",
       "      <td>NaN</td>\n",
       "      <td>NaN</td>\n",
       "      <td>NaN</td>\n",
       "      <td>NaN</td>\n",
       "    </tr>\n",
       "    <tr>\n",
       "      <th>1</th>\n",
       "      <td>['Autographensammlung Karl Geigy-Hagenbach. I,...</td>\n",
       "      <td>991170522224905501</td>\n",
       "      <td>['Autograf', 'Handschrift', 'Briefsammlung']</td>\n",
       "      <td>Autographensammlung Geigy-Hagenbach, -</td>\n",
       "      <td>['Brief', 'Autograph', 'Archivmaterial / Archi...</td>\n",
       "      <td>17940115</td>\n",
       "      <td>{'name': 'Zürich', 'identifier': ['(DE-588)406...</td>\n",
       "      <td>['2 Bl. (4 S. beschrieben) ; 22,5 x 19 cm']</td>\n",
       "      <td>[Deutsch]</td>\n",
       "      <td>Brief an [Gottlieb Hufeland]</td>\n",
       "      <td>[Autograf, Handschrift, Briefsammlung]</td>\n",
       "      <td>Basel</td>\n",
       "      <td>NaN</td>\n",
       "      <td>NaN</td>\n",
       "      <td>Zürich</td>\n",
       "      <td>Zürich</td>\n",
       "      <td>47.3744</td>\n",
       "      <td>8.5411</td>\n",
       "      <td>Switzerland</td>\n",
       "    </tr>\n",
       "    <tr>\n",
       "      <th>2</th>\n",
       "      <td>['Autographensammlung Karl Geigy-Hagenbach. I,...</td>\n",
       "      <td>991170522225205501</td>\n",
       "      <td>['Autograf', 'Handschrift', 'Briefsammlung']</td>\n",
       "      <td>Basel, UB, UBH Autogr Geigy-Hagenbach 1121</td>\n",
       "      <td>['Brief', 'Autograph', 'Archivmaterial / Archi...</td>\n",
       "      <td>18070822</td>\n",
       "      <td>{'name': 'Nürnberg', 'identifier': ['(DE-588)4...</td>\n",
       "      <td>['1 Bl. (2 S. beschrieben) ; 18 x 12 cm']</td>\n",
       "      <td>[Deutsch]</td>\n",
       "      <td>Brief an Hofrat</td>\n",
       "      <td>[Autograf, Handschrift, Briefsammlung]</td>\n",
       "      <td>Basel</td>\n",
       "      <td>47.5596</td>\n",
       "      <td>7.5886</td>\n",
       "      <td>Nürnberg</td>\n",
       "      <td>NaN</td>\n",
       "      <td>NaN</td>\n",
       "      <td>NaN</td>\n",
       "      <td>NaN</td>\n",
       "    </tr>\n",
       "    <tr>\n",
       "      <th>3</th>\n",
       "      <td>['Autographensammlung Karl Geigy-Hagenbach. I,...</td>\n",
       "      <td>991170522227205501</td>\n",
       "      <td>['Autograf', 'Handschrift', 'Briefsammlung']</td>\n",
       "      <td>Autographensammlung Geigy-Hagenbach, -</td>\n",
       "      <td>['Brief', 'Autograph', 'Archivmaterial / Archi...</td>\n",
       "      <td>17960601</td>\n",
       "      <td>{'name': 'Mannheim', 'identifier': ['(DE-588)4...</td>\n",
       "      <td>['2 Bl. (1 S. beschrieben) ; 18,5 x 11,5 cm']</td>\n",
       "      <td>[Deutsch]</td>\n",
       "      <td>Brief an Unbekannt</td>\n",
       "      <td>[Autograf, Handschrift, Briefsammlung]</td>\n",
       "      <td>Basel</td>\n",
       "      <td>NaN</td>\n",
       "      <td>NaN</td>\n",
       "      <td>Mannheim</td>\n",
       "      <td>Mannheim</td>\n",
       "      <td>49.4878</td>\n",
       "      <td>8.4661</td>\n",
       "      <td>Germany</td>\n",
       "    </tr>\n",
       "    <tr>\n",
       "      <th>4</th>\n",
       "      <td>['Autographensammlung Karl Geigy-Hagenbach. I,...</td>\n",
       "      <td>991170522227605501</td>\n",
       "      <td>['Autograf', 'Handschrift', 'Briefsammlung']</td>\n",
       "      <td>Autographensammlung Geigy-Hagenbach, -</td>\n",
       "      <td>['Brief', 'Autograph', 'Archivmaterial / Archi...</td>\n",
       "      <td>18061213</td>\n",
       "      <td>{'name': 'Berlin', 'identifier': ['(DE-588)400...</td>\n",
       "      <td>['1 Bl. (2 S. beschrieben) ; 23 x 19 cm']</td>\n",
       "      <td>[Deutsch]</td>\n",
       "      <td>Brief an [Christian Gottlob] Voigt</td>\n",
       "      <td>[Autograf, Handschrift, Briefsammlung]</td>\n",
       "      <td>Basel</td>\n",
       "      <td>NaN</td>\n",
       "      <td>NaN</td>\n",
       "      <td>Berlin</td>\n",
       "      <td>Berlin</td>\n",
       "      <td>52.5200</td>\n",
       "      <td>13.4050</td>\n",
       "      <td>Germany</td>\n",
       "    </tr>\n",
       "    <tr>\n",
       "      <th>...</th>\n",
       "      <td>...</td>\n",
       "      <td>...</td>\n",
       "      <td>...</td>\n",
       "      <td>...</td>\n",
       "      <td>...</td>\n",
       "      <td>...</td>\n",
       "      <td>...</td>\n",
       "      <td>...</td>\n",
       "      <td>...</td>\n",
       "      <td>...</td>\n",
       "      <td>...</td>\n",
       "      <td>...</td>\n",
       "      <td>...</td>\n",
       "      <td>...</td>\n",
       "      <td>...</td>\n",
       "      <td>...</td>\n",
       "      <td>...</td>\n",
       "      <td>...</td>\n",
       "      <td>...</td>\n",
       "    </tr>\n",
       "    <tr>\n",
       "      <th>119328</th>\n",
       "      <td>['Nachlass Gustav Teichmüller (1832-1888). B, ...</td>\n",
       "      <td>991170446014805501</td>\n",
       "      <td>['Handschrift', 'Briefsammlung']</td>\n",
       "      <td>Basel, UB, UBH NL 79 : B 454-459</td>\n",
       "      <td>['Brief', 'Archivmaterial / Dossier']</td>\n",
       "      <td>18591114/18600731</td>\n",
       "      <td>{'name': 'Sankt Petersburg', 'identifier': ['(...</td>\n",
       "      <td>['8 Bl.']</td>\n",
       "      <td>[Deutsch]</td>\n",
       "      <td>6 Briefe an Gustav Teichmüller</td>\n",
       "      <td>[Handschrift, Briefsammlung]</td>\n",
       "      <td>Basel</td>\n",
       "      <td>47.5596</td>\n",
       "      <td>7.5886</td>\n",
       "      <td>Sankt Petersburg</td>\n",
       "      <td>NaN</td>\n",
       "      <td>NaN</td>\n",
       "      <td>NaN</td>\n",
       "      <td>NaN</td>\n",
       "    </tr>\n",
       "    <tr>\n",
       "      <th>119329</th>\n",
       "      <td>['Nachlass Gustav Teichmüller (1832-1888). B, ...</td>\n",
       "      <td>991170446015605501</td>\n",
       "      <td>['Handschrift', 'Briefsammlung']</td>\n",
       "      <td>Basel, UB, UBH NL 79 : B 422a-423</td>\n",
       "      <td>['Brief', 'Archivmaterial / Dossier']</td>\n",
       "      <td>18641007/18690830</td>\n",
       "      <td>{'name': 'Joala'}</td>\n",
       "      <td>['8 Bl.']</td>\n",
       "      <td>[Deutsch]</td>\n",
       "      <td>3 Briefe an Gustav Teichmüller</td>\n",
       "      <td>[Handschrift, Briefsammlung]</td>\n",
       "      <td>Basel</td>\n",
       "      <td>47.5596</td>\n",
       "      <td>7.5886</td>\n",
       "      <td>Joala</td>\n",
       "      <td>NaN</td>\n",
       "      <td>NaN</td>\n",
       "      <td>NaN</td>\n",
       "      <td>NaN</td>\n",
       "    </tr>\n",
       "    <tr>\n",
       "      <th>119330</th>\n",
       "      <td>['Nachlass Gustav Teichmüller (1832-1888). B, ...</td>\n",
       "      <td>991170446017505501</td>\n",
       "      <td>['Handschrift', 'Briefsammlung']</td>\n",
       "      <td>Basel, UB, UBH NL 79 : B 96-97</td>\n",
       "      <td>['Brief', 'Archivmaterial / Dossier']</td>\n",
       "      <td>18600325/18670217</td>\n",
       "      <td>{'name': 'Plön'}</td>\n",
       "      <td>['2 Bl.']</td>\n",
       "      <td>[Deutsch]</td>\n",
       "      <td>2 Briefe an Gustav Teichmüller</td>\n",
       "      <td>[Handschrift, Briefsammlung]</td>\n",
       "      <td>Basel</td>\n",
       "      <td>47.5596</td>\n",
       "      <td>7.5886</td>\n",
       "      <td>Plön</td>\n",
       "      <td>Plön</td>\n",
       "      <td>54.1622</td>\n",
       "      <td>10.4214</td>\n",
       "      <td>Germany</td>\n",
       "    </tr>\n",
       "    <tr>\n",
       "      <th>119331</th>\n",
       "      <td>['Nachlass Gustav Teichmüller (1832-1888). B, ...</td>\n",
       "      <td>991170446017805501</td>\n",
       "      <td>['Handschrift', 'Briefsammlung']</td>\n",
       "      <td>Basel, UB, UBH NL 79 : B 93</td>\n",
       "      <td>['Brief']</td>\n",
       "      <td>1857</td>\n",
       "      <td>{'name': 'Tartu', 'identifier': ['(DE-588)1029...</td>\n",
       "      <td>['1 Bl. ; 13 x 21 cm']</td>\n",
       "      <td>[Deutsch]</td>\n",
       "      <td>Brief an Behm</td>\n",
       "      <td>[Handschrift, Briefsammlung]</td>\n",
       "      <td>Basel</td>\n",
       "      <td>47.5596</td>\n",
       "      <td>7.5886</td>\n",
       "      <td>Tartu</td>\n",
       "      <td>Tartu</td>\n",
       "      <td>58.3833</td>\n",
       "      <td>26.7167</td>\n",
       "      <td>Estonia</td>\n",
       "    </tr>\n",
       "    <tr>\n",
       "      <th>119332</th>\n",
       "      <td>['Nachlass Gustav Teichmüller (1832-1888). B, ...</td>\n",
       "      <td>991170446018205501</td>\n",
       "      <td>['Handschrift', 'Briefsammlung']</td>\n",
       "      <td>Basel, UB, UBH NL 79 : B 87-88</td>\n",
       "      <td>['Brief', 'Archivmaterial / Dossier']</td>\n",
       "      <td>1859/1861</td>\n",
       "      <td>{'name': 'Sankt Petersburg', 'identifier': ['(...</td>\n",
       "      <td>['4 Bl.']</td>\n",
       "      <td>[Deutsch]</td>\n",
       "      <td>2 Briefe an Gustav Teichmüller</td>\n",
       "      <td>[Handschrift, Briefsammlung]</td>\n",
       "      <td>Basel</td>\n",
       "      <td>47.5596</td>\n",
       "      <td>7.5886</td>\n",
       "      <td>Sankt Petersburg</td>\n",
       "      <td>NaN</td>\n",
       "      <td>NaN</td>\n",
       "      <td>NaN</td>\n",
       "      <td>NaN</td>\n",
       "    </tr>\n",
       "  </tbody>\n",
       "</table>\n",
       "<p>119333 rows × 19 columns</p>\n",
       "</div>"
      ],
      "text/plain": [
       "                                                   series  \\\n",
       "0       ['Autographensammlung Karl Geigy-Hagenbach. I,...   \n",
       "1       ['Autographensammlung Karl Geigy-Hagenbach. I,...   \n",
       "2       ['Autographensammlung Karl Geigy-Hagenbach. I,...   \n",
       "3       ['Autographensammlung Karl Geigy-Hagenbach. I,...   \n",
       "4       ['Autographensammlung Karl Geigy-Hagenbach. I,...   \n",
       "...                                                   ...   \n",
       "119328  ['Nachlass Gustav Teichmüller (1832-1888). B, ...   \n",
       "119329  ['Nachlass Gustav Teichmüller (1832-1888). B, ...   \n",
       "119330  ['Nachlass Gustav Teichmüller (1832-1888). B, ...   \n",
       "119331  ['Nachlass Gustav Teichmüller (1832-1888). B, ...   \n",
       "119332  ['Nachlass Gustav Teichmüller (1832-1888). B, ...   \n",
       "\n",
       "        identifier_swisscollections  \\\n",
       "0                991170522224305501   \n",
       "1                991170522224905501   \n",
       "2                991170522225205501   \n",
       "3                991170522227205501   \n",
       "4                991170522227605501   \n",
       "...                             ...   \n",
       "119328           991170446014805501   \n",
       "119329           991170446015605501   \n",
       "119330           991170446017505501   \n",
       "119331           991170446017805501   \n",
       "119332           991170446018205501   \n",
       "\n",
       "                                        subject_form  \\\n",
       "0       ['Autograf', 'Handschrift', 'Briefsammlung']   \n",
       "1       ['Autograf', 'Handschrift', 'Briefsammlung']   \n",
       "2       ['Autograf', 'Handschrift', 'Briefsammlung']   \n",
       "3       ['Autograf', 'Handschrift', 'Briefsammlung']   \n",
       "4       ['Autograf', 'Handschrift', 'Briefsammlung']   \n",
       "...                                              ...   \n",
       "119328              ['Handschrift', 'Briefsammlung']   \n",
       "119329              ['Handschrift', 'Briefsammlung']   \n",
       "119330              ['Handschrift', 'Briefsammlung']   \n",
       "119331              ['Handschrift', 'Briefsammlung']   \n",
       "119332              ['Handschrift', 'Briefsammlung']   \n",
       "\n",
       "                               library_call_number  \\\n",
       "0       Basel, UB, UBH Autogr Geigy-Hagenbach 1127   \n",
       "1           Autographensammlung Geigy-Hagenbach, -   \n",
       "2       Basel, UB, UBH Autogr Geigy-Hagenbach 1121   \n",
       "3           Autographensammlung Geigy-Hagenbach, -   \n",
       "4           Autographensammlung Geigy-Hagenbach, -   \n",
       "...                                            ...   \n",
       "119328            Basel, UB, UBH NL 79 : B 454-459   \n",
       "119329           Basel, UB, UBH NL 79 : B 422a-423   \n",
       "119330              Basel, UB, UBH NL 79 : B 96-97   \n",
       "119331                 Basel, UB, UBH NL 79 : B 93   \n",
       "119332              Basel, UB, UBH NL 79 : B 87-88   \n",
       "\n",
       "                                            resource_type  \\\n",
       "0       ['Brief', 'Autograph', 'Archivmaterial / Archi...   \n",
       "1       ['Brief', 'Autograph', 'Archivmaterial / Archi...   \n",
       "2       ['Brief', 'Autograph', 'Archivmaterial / Archi...   \n",
       "3       ['Brief', 'Autograph', 'Archivmaterial / Archi...   \n",
       "4       ['Brief', 'Autograph', 'Archivmaterial / Archi...   \n",
       "...                                                   ...   \n",
       "119328              ['Brief', 'Archivmaterial / Dossier']   \n",
       "119329              ['Brief', 'Archivmaterial / Dossier']   \n",
       "119330              ['Brief', 'Archivmaterial / Dossier']   \n",
       "119331                                          ['Brief']   \n",
       "119332              ['Brief', 'Archivmaterial / Dossier']   \n",
       "\n",
       "       date_of_publication_or_production_standardised  \\\n",
       "0                                            18060815   \n",
       "1                                            17940115   \n",
       "2                                            18070822   \n",
       "3                                            17960601   \n",
       "4                                            18061213   \n",
       "...                                               ...   \n",
       "119328                              18591114/18600731   \n",
       "119329                              18641007/18690830   \n",
       "119330                              18600325/18670217   \n",
       "119331                                           1857   \n",
       "119332                                      1859/1861   \n",
       "\n",
       "                                       place_standardised  \\\n",
       "0       {'name': 'Kopenhagen', 'identifier': ['(DE-588...   \n",
       "1       {'name': 'Zürich', 'identifier': ['(DE-588)406...   \n",
       "2       {'name': 'Nürnberg', 'identifier': ['(DE-588)4...   \n",
       "3       {'name': 'Mannheim', 'identifier': ['(DE-588)4...   \n",
       "4       {'name': 'Berlin', 'identifier': ['(DE-588)400...   \n",
       "...                                                   ...   \n",
       "119328  {'name': 'Sankt Petersburg', 'identifier': ['(...   \n",
       "119329                                  {'name': 'Joala'}   \n",
       "119330                                   {'name': 'Plön'}   \n",
       "119331  {'name': 'Tartu', 'identifier': ['(DE-588)1029...   \n",
       "119332  {'name': 'Sankt Petersburg', 'identifier': ['(...   \n",
       "\n",
       "                                 physical_description   language  \\\n",
       "0       ['2 Bl. (2 S. beschrieben) ; 19,5 x 12,5 cm']  [Deutsch]   \n",
       "1         ['2 Bl. (4 S. beschrieben) ; 22,5 x 19 cm']  [Deutsch]   \n",
       "2           ['1 Bl. (2 S. beschrieben) ; 18 x 12 cm']  [Deutsch]   \n",
       "3       ['2 Bl. (1 S. beschrieben) ; 18,5 x 11,5 cm']  [Deutsch]   \n",
       "4           ['1 Bl. (2 S. beschrieben) ; 23 x 19 cm']  [Deutsch]   \n",
       "...                                               ...        ...   \n",
       "119328                                      ['8 Bl.']  [Deutsch]   \n",
       "119329                                      ['8 Bl.']  [Deutsch]   \n",
       "119330                                      ['2 Bl.']  [Deutsch]   \n",
       "119331                         ['1 Bl. ; 13 x 21 cm']  [Deutsch]   \n",
       "119332                                      ['4 Bl.']  [Deutsch]   \n",
       "\n",
       "                                     title  \\\n",
       "0            Brief an Breitkopf und Härtel   \n",
       "1             Brief an [Gottlieb Hufeland]   \n",
       "2                          Brief an Hofrat   \n",
       "3                       Brief an Unbekannt   \n",
       "4       Brief an [Christian Gottlob] Voigt   \n",
       "...                                    ...   \n",
       "119328      6 Briefe an Gustav Teichmüller   \n",
       "119329      3 Briefe an Gustav Teichmüller   \n",
       "119330      2 Briefe an Gustav Teichmüller   \n",
       "119331                       Brief an Behm   \n",
       "119332      2 Briefe an Gustav Teichmüller   \n",
       "\n",
       "                        corrected_subject_form library_city  \\\n",
       "0       [Autograf, Handschrift, Briefsammlung]        Basel   \n",
       "1       [Autograf, Handschrift, Briefsammlung]        Basel   \n",
       "2       [Autograf, Handschrift, Briefsammlung]        Basel   \n",
       "3       [Autograf, Handschrift, Briefsammlung]        Basel   \n",
       "4       [Autograf, Handschrift, Briefsammlung]        Basel   \n",
       "...                                        ...          ...   \n",
       "119328            [Handschrift, Briefsammlung]        Basel   \n",
       "119329            [Handschrift, Briefsammlung]        Basel   \n",
       "119330            [Handschrift, Briefsammlung]        Basel   \n",
       "119331            [Handschrift, Briefsammlung]        Basel   \n",
       "119332            [Handschrift, Briefsammlung]        Basel   \n",
       "\n",
       "        location_library_latitude  location_library_longitude  \\\n",
       "0                         47.5596                      7.5886   \n",
       "1                             NaN                         NaN   \n",
       "2                         47.5596                      7.5886   \n",
       "3                             NaN                         NaN   \n",
       "4                             NaN                         NaN   \n",
       "...                           ...                         ...   \n",
       "119328                    47.5596                      7.5886   \n",
       "119329                    47.5596                      7.5886   \n",
       "119330                    47.5596                      7.5886   \n",
       "119331                    47.5596                      7.5886   \n",
       "119332                    47.5596                      7.5886   \n",
       "\n",
       "               city_info      city      lat      lng      country  \n",
       "0             Kopenhagen       NaN      NaN      NaN          NaN  \n",
       "1                 Zürich    Zürich  47.3744   8.5411  Switzerland  \n",
       "2               Nürnberg       NaN      NaN      NaN          NaN  \n",
       "3               Mannheim  Mannheim  49.4878   8.4661      Germany  \n",
       "4                 Berlin    Berlin  52.5200  13.4050      Germany  \n",
       "...                  ...       ...      ...      ...          ...  \n",
       "119328  Sankt Petersburg       NaN      NaN      NaN          NaN  \n",
       "119329             Joala       NaN      NaN      NaN          NaN  \n",
       "119330              Plön      Plön  54.1622  10.4214      Germany  \n",
       "119331             Tartu     Tartu  58.3833  26.7167      Estonia  \n",
       "119332  Sankt Petersburg       NaN      NaN      NaN          NaN  \n",
       "\n",
       "[119333 rows x 19 columns]"
      ]
     },
     "execution_count": 51,
     "metadata": {},
     "output_type": "execute_result"
    }
   ],
   "source": [
    "df"
   ]
  },
  {
   "cell_type": "code",
   "execution_count": null,
   "metadata": {},
   "outputs": [
    {
     "name": "stderr",
     "output_type": "stream",
     "text": [
      "  1%|          | 26/4194 [00:27<39:11,  1.77it/s]  "
     ]
    }
   ],
   "source": [
    "# Define function to get latitude and longitude\n",
    "geolocator = Nominatim(user_agent='myapplication')\n",
    "def get_lat_long(city_name):\n",
    "\n",
    "    location = geolocator.geocode(city_name)\n",
    "    if location:\n",
    "        return location.latitude, location.longitude\n",
    "    else:\n",
    "        return None, None\n",
    "cities=df[df.city.isna()]['city_info'].unique()\n",
    "city_mapping={city:get_lat_long(city) for city in tqdm(cities)}"
   ]
  },
  {
   "cell_type": "code",
   "execution_count": null,
   "metadata": {},
   "outputs": [],
   "source": []
  },
  {
   "cell_type": "code",
   "execution_count": null,
   "metadata": {},
   "outputs": [
    {
     "name": "stderr",
     "output_type": "stream",
     "text": [
      "100%|██████████| 10/10 [00:07<00:00,  1.27it/s]\n"
     ]
    }
   ],
   "source": []
  },
  {
   "cell_type": "code",
   "execution_count": null,
   "metadata": {},
   "outputs": [
    {
     "data": {
      "text/plain": [
       "{'Kopenhagen': (55.6867243, 12.5700724),\n",
       " 'Zürich': (47.3744489, 8.5410422),\n",
       " 'Nürnberg': (49.453872, 11.077298),\n",
       " 'Mannheim': (49.4892913, 8.4673098),\n",
       " 'Berlin': (52.510885, 13.3989367),\n",
       " 'Sankt Petersburg': (59.938732, 30.316229),\n",
       " 'Karlsbad': (50.2306216, 12.8701437),\n",
       " 'Elzach': (48.1757263, 8.0718474),\n",
       " 'Karlsruhe': (49.0068705, 8.4034195),\n",
       " 'Stuttgart': (48.7784485, 9.1800132)}"
      ]
     },
     "execution_count": 312,
     "metadata": {},
     "output_type": "execute_result"
    }
   ],
   "source": [
    "city_mapping"
   ]
  },
  {
   "cell_type": "code",
   "execution_count": null,
   "metadata": {},
   "outputs": [
    {
     "name": "stdout",
     "output_type": "stream",
     "text": [
      "-87.6244212\n"
     ]
    }
   ],
   "source": [
    "\n",
    "# Apply function to the DataFrame column\n",
    "df[['place_latitude', 'place_longitude']] = df['city_info'].progress_apply(lambda x: pd.Series(get_lat_long(x)))"
   ]
  },
  {
   "cell_type": "code",
   "execution_count": null,
   "metadata": {},
   "outputs": [
    {
     "data": {
      "text/plain": [
       "\"{'name': 'Berlin', 'identifier': ['(DE-588)4005728-8']}\""
      ]
     },
     "execution_count": 282,
     "metadata": {},
     "output_type": "execute_result"
    }
   ],
   "source": [
    "df['place_standardised'][4]"
   ]
  },
  {
   "cell_type": "code",
   "execution_count": null,
   "metadata": {},
   "outputs": [
    {
     "data": {
      "text/plain": [
       "0         Basel, UB, UBH Autogr Geigy-Hagenbach 1127\n",
       "1             Autographensammlung Geigy-Hagenbach, -\n",
       "2         Basel, UB, UBH Autogr Geigy-Hagenbach 1121\n",
       "3             Autographensammlung Geigy-Hagenbach, -\n",
       "4             Autographensammlung Geigy-Hagenbach, -\n",
       "                             ...                    \n",
       "100012              Basel, UB, UBH NL 79 : B 454-459\n",
       "100013             Basel, UB, UBH NL 79 : B 422a-423\n",
       "100014                Basel, UB, UBH NL 79 : B 96-97\n",
       "100015                   Basel, UB, UBH NL 79 : B 93\n",
       "100016                Basel, UB, UBH NL 79 : B 87-88\n",
       "Name: library_call_number, Length: 100017, dtype: object"
      ]
     },
     "execution_count": 226,
     "metadata": {},
     "output_type": "execute_result"
    }
   ],
   "source": [
    "df.library_call_number"
   ]
  }
 ],
 "metadata": {
  "kernelspec": {
   "display_name": "base",
   "language": "python",
   "name": "python3"
  },
  "language_info": {
   "codemirror_mode": {
    "name": "ipython",
    "version": 3
   },
   "file_extension": ".py",
   "mimetype": "text/x-python",
   "name": "python",
   "nbconvert_exporter": "python",
   "pygments_lexer": "ipython3",
   "version": "3.11.10"
  }
 },
 "nbformat": 4,
 "nbformat_minor": 2
}
