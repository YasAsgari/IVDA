{
 "cells": [
  {
   "cell_type": "code",
   "execution_count": null,
   "metadata": {},
   "outputs": [],
   "source": [
    "import pandas as pd\n",
    "import numpy as np\n",
    "from sklearn.preprocessing import MultiLabelBinarizer, StandardScaler, OneHotEncoder\n",
    "from sklearn.compose import ColumnTransformer\n",
    "from sklearn.manifold import TSNE\n",
    "import plotly.express as px\n",
    "from sklearn.pipeline import Pipeline"
   ]
  },
  {
   "cell_type": "code",
   "execution_count": null,
   "metadata": {},
   "outputs": [],
   "source": [
    "# Load the dataset\n",
    "df = pd.read_csv('final_df.csv')"
   ]
  },
  {
   "cell_type": "code",
   "execution_count": null,
   "metadata": {},
   "outputs": [],
   "source": [
    "# Process MultiLabelBinarizer for specified columns\n",
    "def process_multilabel_columns(df, columns):\n",
    "    label_encoded_X = []\n",
    "    mlb_list = []\n",
    "    for col in columns:\n",
    "        mlb = MultiLabelBinarizer()\n",
    "        label_encoded = mlb.fit_transform(df[col])  # Ensure correct list handling\n",
    "        label_encoded_X.append(label_encoded)\n",
    "        mlb_list.append(mlb)\n",
    "    return np.hstack(label_encoded_X), mlb_list\n",
    "\n",
    "# Multi-label encoding\n",
    "multi_label_columns = ['corrected_resource_type', 'corrected_subject_form', 'corrected_lang']\n",
    "label_encoded_combined, mlb_list = process_multilabel_columns(df, multi_label_columns)\n",
    "\n",
    "# Define numerical and categorical features\n",
    "numerical_features = ['found_date', 'lat', 'lng']\n",
    "categorical_features = ['library_city']  # Add categorical columns if needed\n",
    "\n",
    "# Preprocessing pipeline\n",
    "preprocessor = ColumnTransformer(\n",
    "    transformers=[\n",
    "        ('num', StandardScaler(), numerical_features),\n",
    "        ('cat', OneHotEncoder(), categorical_features)\n",
    "    ]\n",
    ")\n",
    "\n",
    "# Apply preprocessing to numerical and categorical features\n",
    "X_preprocessed = preprocessor.fit_transform(df[numerical_features + categorical_features])\n",
    "\n",
    "# Combine preprocessed data with label-encoded data\n",
    "X_combined = np.hstack((X_preprocessed, label_encoded_combined))\n"
   ]
  },
  {
   "cell_type": "code",
   "execution_count": null,
   "metadata": {},
   "outputs": [],
   "source": []
  },
  {
   "cell_type": "code",
   "execution_count": null,
   "metadata": {},
   "outputs": [],
   "source": [
    "# t-SNE dimensionality reduction\n",
    "tsne = TSNE(n_components=2, random_state=42)\n",
    "X_tsne = tsne.fit_transform(X_combined[:10000])  # Use a subset for visualization\n"
   ]
  },
  {
   "cell_type": "code",
   "execution_count": null,
   "metadata": {},
   "outputs": [],
   "source": [
    "\n",
    "# Add t-SNE results to the DataFrame\n",
    "tsne_df = pd.DataFrame(X_tsne, columns=['t-SNE 1', 't-SNE 2'])\n",
    "tsne_df['index'] = df.index[:10000]\n",
    "\n",
    "# Scatter plot with interactive tooltips\n",
    "\n",
    "tsne_df = tsne_df.merge(df, left_on='index', right_index=True)\n",
    "tsne_df['found_date'] = pd.to_datetime(tsne_df['found_date'], format='%Y', errors='coerce')\n",
    "tsne_df=tsne_df.dropna(subset=['found_date'])\n"
   ]
  },
  {
   "cell_type": "code",
   "execution_count": null,
   "metadata": {},
   "outputs": [],
   "source": [
    "fig = px.scatter(\n",
    "    tsne_df,\n",
    "    x='t-SNE 1',\n",
    "    y='t-SNE 2',\n",
    "   \n",
    "    hover_data={\n",
    "        'corrected_resource_type': True,\n",
    "\n",
    "        'corrected_subject_form': True,\n",
    "        'corrected_lang': True,\n",
    "        'lat':True,\n",
    "        'lng':True,\n",
    "        'city_info':True,\n",
    "        'index': False  # Hide index from tooltip\n",
    "    },\n",
    "    title=\"t-SNE Visualization of Custom Classification Dataset\"\n",
    ")\n",
    "\n",
    "fig.update_layout(\n",
    "    xaxis_title=\"First t-SNE Component\",\n",
    "    yaxis_title=\"Second t-SNE Component\",\n",
    "    hoverlabel=dict(bgcolor=\"white\", font_size=12)\n",
    ")\n",
    "fig.update_layout(width=1200, height=800)\n",
    "# Show interactive plot\n",
    "fig.show()"
   ]
  },
  {
   "cell_type": "code",
   "execution_count": null,
   "metadata": {},
   "outputs": [],
   "source": [
    "import seaborn as sns\n",
    "from matplotlib import pyplot as plt\n",
    "fig, ax=plt.subplots(nrows=1, ncols=1, dpi=200)\n",
    "sns.scatterplot(data=tsne_df, x='t-SNE 1', y='t-SNE 2', s=1)"
   ]
  },
  {
   "cell_type": "code",
   "execution_count": null,
   "metadata": {},
   "outputs": [],
   "source": []
  },
  {
   "cell_type": "markdown",
   "metadata": {},
   "source": [
    "## Clustering"
   ]
  },
  {
   "cell_type": "code",
   "execution_count": null,
   "metadata": {},
   "outputs": [],
   "source": [
    "#Kmeans\n",
    "from sklearn.cluster import KMeans\n",
    "C_tsne = tsne_df[['t-SNE 1', 't-SNE 2']].values "
   ]
  },
  {
   "cell_type": "code",
   "execution_count": null,
   "metadata": {},
   "outputs": [],
   "source": []
  },
  {
   "cell_type": "code",
   "execution_count": null,
   "metadata": {},
   "outputs": [],
   "source": [
    "#Finding Optimal K\n",
    "wcss = []\n",
    "\n",
    "# Try different values of k\n",
    "k_values = range(1, 11)  # Test for k from 1 to 10\n",
    "for k in k_values:\n",
    "    kmeans = KMeans(n_clusters=k, random_state=42)\n",
    "    kmeans.fit(C_tsne)\n",
    "    wcss.append(kmeans.inertia_)  # WCSS for each k\n",
    "\n",
    "# Plot the elbow graph\n",
    "plt.figure(figsize=(8, 5))\n",
    "plt.plot(k_values, wcss, marker='o', linestyle='--', color='b')\n",
    "plt.title('Elbow Method for Optimal k')\n",
    "plt.xlabel('Number of Clusters (k)')\n",
    "plt.ylabel('Within-Cluster Sum of Squares (WCSS)')\n",
    "plt.xticks(k_values)\n",
    "plt.grid()\n",
    "plt.show()"
   ]
  },
  {
   "cell_type": "code",
   "execution_count": null,
   "metadata": {},
   "outputs": [],
   "source": [
    "k=5"
   ]
  },
  {
   "cell_type": "code",
   "execution_count": null,
   "metadata": {},
   "outputs": [],
   "source": [
    "from sklearn.cluster import KMeans\n",
    "\n",
    "kmeans = KMeans(n_clusters=k, random_state=42)\n",
    "kmeans.fit(C_tsne)\n",
    "cluster_labels = kmeans.labels_"
   ]
  },
  {
   "cell_type": "code",
   "execution_count": null,
   "metadata": {},
   "outputs": [],
   "source": [
    "plt.figure(figsize=(12, 8))\n",
    "plt.scatter(C_tsne[:, 0], C_tsne[:, 1],c=cluster_labels)\n",
    "plt.title(\"Scatter Plot after applying Kmeans\")\n",
    "plt.show()"
   ]
  },
  {
   "cell_type": "code",
   "execution_count": null,
   "metadata": {},
   "outputs": [],
   "source": []
  },
  {
   "cell_type": "code",
   "execution_count": null,
   "metadata": {},
   "outputs": [],
   "source": []
  },
  {
   "cell_type": "code",
   "execution_count": null,
   "metadata": {},
   "outputs": [],
   "source": [
    "#Using Plotly"
   ]
  },
  {
   "cell_type": "code",
   "execution_count": null,
   "metadata": {},
   "outputs": [],
   "source": [
    "fig = px.scatter(\n",
    "    tsne_df,\n",
    "    x='t-SNE 1',\n",
    "    y='t-SNE 2',\n",
    "   color=cluster_labels,\n",
    "    hover_data={\n",
    "        'corrected_resource_type': True,\n",
    "        'corrected_subject_form': True,\n",
    "        'corrected_lang': True,\n",
    "        'lat':True,\n",
    "        'lng':True,\n",
    "        'city_info':True,\n",
    "        'index': False  # Hide index from tooltip\n",
    "    },\n",
    "    title=\"Scatter Plot after applying Kmeans\"\n",
    ")\n",
    "\n",
    "fig.update_layout(\n",
    "    xaxis_title=\"First t-SNE Component\",\n",
    "    yaxis_title=\"Second t-SNE Component\",\n",
    "    hoverlabel=dict(bgcolor=\"white\", font_size=12)\n",
    "    #,coloraxis_showscale=False\n",
    ")\n",
    "fig.update_layout(width=1200, height=800)\n",
    "# Show interactive plot\n",
    "fig.show()"
   ]
  },
  {
   "cell_type": "code",
   "execution_count": null,
   "metadata": {},
   "outputs": [],
   "source": []
  },
  {
   "cell_type": "code",
   "execution_count": null,
   "metadata": {},
   "outputs": [],
   "source": [
    "from sklearn.cluster import DBSCAN"
   ]
  },
  {
   "cell_type": "code",
   "execution_count": null,
   "metadata": {},
   "outputs": [],
   "source": [
    "# DBSCAN\n",
    "dbscan = DBSCAN(eps=0.5, min_samples=5)\n",
    "dbscan.fit(C_tsne)\n",
    "cluster_labels_db = dbscan.labels_"
   ]
  },
  {
   "cell_type": "code",
   "execution_count": null,
   "metadata": {},
   "outputs": [],
   "source": [
    "plt.figure(figsize=(12,8))\n",
    "plt.scatter(C_tsne[:, 0], C_tsne[:, 1],c=cluster_labels_db)\n",
    "plt.title(\"Scatter Plot after applying DBSCAN\")\n",
    "plt.show()"
   ]
  },
  {
   "cell_type": "code",
   "execution_count": null,
   "metadata": {},
   "outputs": [],
   "source": []
  },
  {
   "cell_type": "code",
   "execution_count": null,
   "metadata": {},
   "outputs": [],
   "source": [
    "#Using Plotly\n",
    "fig = px.scatter(\n",
    "    tsne_df,\n",
    "    x='t-SNE 1',\n",
    "    y='t-SNE 2',\n",
    "   color=cluster_labels_db,\n",
    "    hover_data={\n",
    "        'corrected_resource_type': True,\n",
    "        'corrected_subject_form': True,\n",
    "        'corrected_lang': True,\n",
    "        'lat':True,\n",
    "        'lng':True,\n",
    "        'city_info':True,\n",
    "        'index': False  # Hide index from tooltip\n",
    "    },\n",
    "    title=\"Scatter Plot after applying DBSCAN\"\n",
    ")\n",
    "\n",
    "fig.update_layout(\n",
    "    xaxis_title=\"First t-SNE Component\",\n",
    "    yaxis_title=\"Second t-SNE Component\",\n",
    "    hoverlabel=dict(bgcolor=\"white\", font_size=12)\n",
    ")\n",
    "fig.update_layout(width=1200, height=800)\n",
    "# Show interactive plot\n",
    "fig.show()"
   ]
  },
  {
   "cell_type": "code",
   "execution_count": null,
   "metadata": {},
   "outputs": [],
   "source": []
  },
  {
   "cell_type": "code",
   "execution_count": null,
   "metadata": {},
   "outputs": [],
   "source": [
    "from scipy.cluster.hierarchy import dendrogram, linkage \n",
    "from scipy.cluster.hierarchy import fcluster"
   ]
  },
  {
   "cell_type": "code",
   "execution_count": null,
   "metadata": {},
   "outputs": [],
   "source": [
    "# Hierarchical clustering\n",
    "linked = linkage(C_tsne, 'single') \n",
    "\n",
    "\n",
    "plt.figure(figsize=(16, 12))\n",
    "dendrogram(linked,\n",
    "           orientation='top',\n",
    "           distance_sort='descending',\n",
    "           show_leaf_counts=True)\n",
    "plt.title('Hierarchical Clustering Dendrogram')\n",
    "plt.xlabel('Sample index')\n",
    "plt.ylabel('Distance')\n",
    "plt.show()\n",
    "\n",
    "max_d = 5  # Example maximum distance to cut the dendrogram, adjust based on your data\n",
    "clusters_labels_hierarchical = fcluster(linked, max_d, criterion='distance')\n",
    "\n"
   ]
  },
  {
   "cell_type": "code",
   "execution_count": null,
   "metadata": {},
   "outputs": [],
   "source": []
  },
  {
   "cell_type": "code",
   "execution_count": null,
   "metadata": {},
   "outputs": [],
   "source": [
    "plt.figure(figsize=(12,6))\n",
    "scatter = plt.scatter(C_tsne[:, 0], C_tsne[:, 1], c=clusters_labels_hierarchical, cmap='viridis')\n",
    "plt.title('Scatter Plot after applying Hierarchical Clustering')\n",
    "plt.show()"
   ]
  },
  {
   "cell_type": "code",
   "execution_count": null,
   "metadata": {},
   "outputs": [],
   "source": []
  },
  {
   "cell_type": "code",
   "execution_count": null,
   "metadata": {},
   "outputs": [],
   "source": [
    "#Using Plotly\n",
    "fig = px.scatter(\n",
    "    tsne_df,\n",
    "    x='t-SNE 1',\n",
    "    y='t-SNE 2',\n",
    "   color=clusters_labels_hierarchical,\n",
    "    hover_data={\n",
    "        'corrected_resource_type': True,\n",
    "        'corrected_subject_form': True,\n",
    "        'corrected_lang': True,\n",
    "        'lat':True,\n",
    "        'lng':True,\n",
    "        'city_info':True,\n",
    "        'index': False  # Hide index from tooltip\n",
    "    },\n",
    "    title=\"Scatter Plot after applying Hierarchical Clustering\"\n",
    ")\n",
    "\n",
    "fig.update_layout(\n",
    "    xaxis_title=\"First t-SNE Component\",\n",
    "    yaxis_title=\"Second t-SNE Component\",\n",
    "    hoverlabel=dict(bgcolor=\"white\", font_size=12)\n",
    ")\n",
    "fig.update_layout(width=1200, height=800)\n",
    "# Show interactive plot\n",
    "fig.show()"
   ]
  },
  {
   "cell_type": "code",
   "execution_count": null,
   "metadata": {},
   "outputs": [],
   "source": []
  },
  {
   "cell_type": "code",
   "execution_count": null,
   "metadata": {},
   "outputs": [],
   "source": []
  },
  {
   "cell_type": "code",
   "execution_count": null,
   "metadata": {},
   "outputs": [],
   "source": []
  }
 ],
 "metadata": {
  "kernelspec": {
   "display_name": "Python 3 (ipykernel)",
   "language": "python",
   "name": "python3"
  },
  "language_info": {
   "codemirror_mode": {
    "name": "ipython",
    "version": 3
   },
   "file_extension": ".py",
   "mimetype": "text/x-python",
   "name": "python",
   "nbconvert_exporter": "python",
   "pygments_lexer": "ipython3",
   "version": "3.12.5"
  }
 },
 "nbformat": 4,
 "nbformat_minor": 4
}
